{
 "cells": [
  {
   "cell_type": "markdown",
   "metadata": {},
   "source": [
    "<div style=\"text-align: center;\">\n",
    "  <img src=\"https://github.com/Hack-io-Data/Imagenes/blob/main/01-LogosHackio/logo_celeste@4x.png?raw=true\" alt=\"logo hack(io)\" />\n",
    "</div>"
   ]
  },
  {
   "cell_type": "markdown",
   "metadata": {},
   "source": [
    "#### 1. Escribe un programa que determine si un número es par o impar.\n",
    "\n"
   ]
  },
  {
   "cell_type": "code",
   "execution_count": 1,
   "metadata": {},
   "outputs": [
    {
     "name": "stdout",
     "output_type": "stream",
     "text": [
      "El número es impar.\n"
     ]
    }
   ],
   "source": [
    "# Solicitar al usuario que ingrese un número\n",
    "numero = int(input(\"Introduce un número: \"))\n",
    "\n",
    "# Determinar si el número es par o impar\n",
    "# verifica si el resto de la división es 0.\n",
    "# Si el resto es 0, significa que el número es divisible por 2, por lo tanto, el número es par\n",
    "if numero % 2 == 0:\n",
    "    print(\"El número es par.\")\n",
    "else:\n",
    "    print(\"El número es impar.\")"
   ]
  },
  {
   "cell_type": "markdown",
   "metadata": {},
   "source": [
    "#### 2. Genera un programa que nos diga si es de noche, de día o tarde según la hora proporcionada por el usuario."
   ]
  },
  {
   "cell_type": "code",
   "execution_count": 5,
   "metadata": {},
   "outputs": [
    {
     "name": "stdout",
     "output_type": "stream",
     "text": [
      "Las 7 horas, Es de mañana\n"
     ]
    }
   ],
   "source": [
    "# Solicitar al usuario que ingrese una hora\n",
    "hora = int(input(\"Ingrese una hora (formato 24hs, es decir, para las 3pm, ingrese 15)\"))\n",
    "\n",
    "# Determinar si  es de noche, mañana o tarde\n",
    "if 0 <= hora < 5:\n",
    "    print (f\"Las {hora} horas, Es de noche\")\n",
    "if 5 <= hora < 12: \n",
    "    print (f\"Las {hora} horas, Es de mañana\")\n",
    "if 12 <=hora < 19: \n",
    "    print (f\"Las {hora} horas, Es de tarde\")\n",
    "if 19 <=hora < 24:\n",
    "    print (f\"Las {hora} horas, Es de noche\")"
   ]
  },
  {
   "cell_type": "markdown",
   "metadata": {},
   "source": [
    "#### 3. Dado un nombre imprime un saludo personalizado."
   ]
  },
  {
   "cell_type": "code",
   "execution_count": null,
   "metadata": {},
   "outputs": [],
   "source": [
    "# Solicitar al usuario que ingrese su nombre\n",
    "nombre = input (\"Introduce tu nombre\")\n",
    "\n",
    "# Imprimimos un saludo personalizado\n",
    "print (f\"Hola {nombre}! ¡Espero que tengas un buen dia!\")"
   ]
  },
  {
   "cell_type": "markdown",
   "metadata": {},
   "source": [
    "#### 4. Escribe un programa que determine qué calificación en texto tiene un alumno en base a su calificación numérica. Las reglas de calificación son: \n",
    "\n",
    "- 0 - 69 insuficiente\n",
    "\n",
    "- 70 - 79 bien\n",
    "\n",
    "- 80 - 89 muy bien\n",
    "\n",
    "- 90 - 100 excelente\n"
   ]
  },
  {
   "cell_type": "code",
   "execution_count": 9,
   "metadata": {},
   "outputs": [
    {
     "name": "stdout",
     "output_type": "stream",
     "text": [
      "¡tu nota es Exelente, felcitaciones por tu esfuerzo!\n"
     ]
    }
   ],
   "source": [
    "# Solicitamos que ingrese su nota numerica\n",
    "nota = int(input(\"Ingrese su nota\"))\n",
    "if 0 <= nota < 69:\n",
    "    print (\"Tu nota es insuficiente, deberias estudiar mas\")\n",
    "elif 70 <= nota < 79:\n",
    "    print (\"Tu nota es buena, contas con los conocimientos requeridos\")\n",
    "elif  80 <= nota < 89: \n",
    "    print (\"¡Tu nota es muy buena, felicitades!\")\n",
    "else 90 <= nota < 100:\n",
    "    print (\"¡tu nota es Exelente, felcitaciones por tu esfuerzo!\")"
   ]
  },
  {
   "cell_type": "markdown",
   "metadata": {},
   "source": [
    "#### 5. Escribe un programa que imprima el día de la semana, dado un número del 1 al 7.\n"
   ]
  },
  {
   "cell_type": "code",
   "execution_count": 15,
   "metadata": {},
   "outputs": [
    {
     "name": "stdout",
     "output_type": "stream",
     "text": [
      "El numero 8 no es valido como numero de la semana\n"
     ]
    }
   ],
   "source": [
    "# Solicitamos que ingrese un numero que represente el dia de la semana\n",
    "dia = int(input(\"Ingrese el numero de dia de la semana\"))\n",
    "\n",
    "if dia == 1:\n",
    "    print (\"Hoy es domingo\")\n",
    "elif dia == 2:\n",
    "    print (\"Hoy es lunes\")\n",
    "elif dia == 3: \n",
    "    print (\"Hoy es martes\")\n",
    "elif dia == 4:\n",
    "    print (\"Hoy es miercoles\")\n",
    "elif dia == 5:\n",
    "    print (\"Hoy es jueves\")\n",
    "elif dia == 6: \n",
    "    print (\"Hoy es viernes\")\n",
    "elif dia == 7: \n",
    "    print (\"Hoy es sabado\")\n",
    "\n",
    "else:\n",
    "    print (f\"El numero {dia} no es valido como numero de la semana\")\n"
   ]
  },
  {
   "cell_type": "markdown",
   "metadata": {},
   "source": [
    "#### 6. Escribe un programa que determine si un número es positivo, negativo o cero."
   ]
  },
  {
   "cell_type": "code",
   "execution_count": 19,
   "metadata": {},
   "outputs": [
    {
     "name": "stdout",
     "output_type": "stream",
     "text": [
      "El numero es negativo\n"
     ]
    }
   ],
   "source": [
    "numero =int(input(\"Ingrese un numero\"))\n",
    "\n",
    "if numero == 0: \n",
    "    print (\"El numero es 0\")\n",
    "elif numero < 0: \n",
    "    print (\"El numero es negativo\")\n",
    "else:\n",
    "    print (\"El numero es positivo\")"
   ]
  },
  {
   "cell_type": "markdown",
   "metadata": {},
   "source": [
    "#### 7. Escribe un programa que determine si una persona puede conducir o no. La edad mínima para conducir es 18 años. \n"
   ]
  },
  {
   "cell_type": "code",
   "execution_count": 21,
   "metadata": {},
   "outputs": [
    {
     "name": "stdout",
     "output_type": "stream",
     "text": [
      "Es menor de edad, no puede conducir\n"
     ]
    }
   ],
   "source": [
    "edad = int(input(\"Ingrese su edad\"))\n",
    "\n",
    "if edad <18:\n",
    "    print(\"Es menor de edad, no puede conducir\")\n",
    "else:   \n",
    "    print(\"puede conducir\")"
   ]
  },
  {
   "cell_type": "markdown",
   "metadata": {},
   "source": [
    "#### 8. Escribe un programa que determine si un estudiante aprobó o suspendió un examen."
   ]
  },
  {
   "cell_type": "code",
   "execution_count": 25,
   "metadata": {},
   "outputs": [
    {
     "name": "stdout",
     "output_type": "stream",
     "text": [
      "Usted aprobo el examen\n"
     ]
    }
   ],
   "source": [
    "if 0 < nota < 69:\n",
    "    print (\"Usted desaprobo el examen\")\n",
    "elif 70 < nota < 100:\n",
    "    print (\"Usted aprobo el examen\")"
   ]
  },
  {
   "cell_type": "markdown",
   "metadata": {},
   "source": [
    "#### 9. Escribe un programa que determine si un número es múltiplo de 3 y 5.\n"
   ]
  },
  {
   "cell_type": "code",
   "execution_count": 8,
   "metadata": {},
   "outputs": [
    {
     "name": "stdout",
     "output_type": "stream",
     "text": [
      "El numero 30 es múltiplo de 3 y de 5.\n"
     ]
    }
   ],
   "source": [
    "# Solicitar al usuario que ingrese un número\n",
    "numero = int(input(\"Introduce un número: \"))\n",
    "\n",
    "\n",
    "if numero % 3 == 0 and numero % 5 == 0:\n",
    "    print(f\"El numero {numero} es múltiplo de 3 y de 5.\")\n",
    "else:\n",
    "    print(\"El numero no es divisible ni por 3 ni por 5\")"
   ]
  },
  {
   "cell_type": "markdown",
   "metadata": {},
   "source": [
    "#### 10. Escribe un programa que determine si un número es par o impar.\n"
   ]
  },
  {
   "cell_type": "code",
   "execution_count": 10,
   "metadata": {},
   "outputs": [
    {
     "name": "stdout",
     "output_type": "stream",
     "text": [
      "El número 444 es par.\n"
     ]
    }
   ],
   "source": [
    "# Solicitar al usuario que ingrese un número\n",
    "numero = int(input(\"Introduce un número: \"))\n",
    "\n",
    "# Determinar si el número es par o impar\n",
    "# verifica si el resto de la división es 0.\n",
    "# Si el resto es 0, significa que el número es divisible por 2, por lo tanto, el número es par\n",
    "if numero % 2 == 0:\n",
    "    print(f\"El número {numero} es par.\")\n",
    "else:\n",
    "    print(f\"El número {numero} es impar.\")"
   ]
  }
 ],
 "metadata": {
  "kernelspec": {
   "display_name": "hackio",
   "language": "python",
   "name": "python3"
  },
  "language_info": {
   "codemirror_mode": {
    "name": "ipython",
    "version": 3
   },
   "file_extension": ".py",
   "mimetype": "text/x-python",
   "name": "python",
   "nbconvert_exporter": "python",
   "pygments_lexer": "ipython3",
   "version": "3.12.4"
  }
 },
 "nbformat": 4,
 "nbformat_minor": 2
}

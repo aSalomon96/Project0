{
 "cells": [
  {
   "cell_type": "markdown",
   "metadata": {},
   "source": [
    "<div style=\"text-align: center;\">\n",
    "  <img src=\"https://github.com/Hack-io-Data/Imagenes/blob/main/01-LogosHackio/logo_celeste@4x.png?raw=true\" alt=\"logo hack(io)\" />\n",
    "</div>"
   ]
  },
  {
   "cell_type": "markdown",
   "metadata": {
    "vscode": {
     "languageId": "plaintext"
    }
   },
   "source": [
    "#### 1. Dado el string `texto = \"Hola Mundo\"`, conviértelo todo a minúsculas."
   ]
  },
  {
   "cell_type": "code",
   "execution_count": 4,
   "metadata": {},
   "outputs": [
    {
     "name": "stdout",
     "output_type": "stream",
     "text": [
      "hola mundo\n"
     ]
    }
   ],
   "source": [
    "# Definimos variable texto\n",
    "texto = \"Hola Mundo\"\n",
    "\n",
    "# Creamos la variable en minuscula\n",
    "texto_minusculas = texto.lower()\n",
    "\n",
    "# Imprimimos para chequear cambios\n",
    "print(texto_minusculas)"
   ]
  },
  {
   "cell_type": "markdown",
   "metadata": {},
   "source": [
    "#### 2. Dado el string `texto = \"Hola Mundo\"`, conviértelo todo a mayúsculas."
   ]
  },
  {
   "cell_type": "code",
   "execution_count": 5,
   "metadata": {},
   "outputs": [
    {
     "name": "stdout",
     "output_type": "stream",
     "text": [
      "HOLA MUNDO\n"
     ]
    }
   ],
   "source": [
    "# Definimos variable texto\n",
    "texto = \"Hola Mundo\"\n",
    "\n",
    "# Creamos la variable en mayusculas\n",
    "texto_mayusculas = texto.upper()\n",
    "\n",
    "# Imprimimos para chequear cambios\n",
    "print (texto_mayusculas)\n"
   ]
  },
  {
   "cell_type": "markdown",
   "metadata": {},
   "source": [
    "#### 3. Dado el string `texto = \"  Hola Mundo  \"`, elimina los espacios al principio y al final."
   ]
  },
  {
   "cell_type": "code",
   "execution_count": 6,
   "metadata": {},
   "outputs": [
    {
     "name": "stdout",
     "output_type": "stream",
     "text": [
      "Hola Mundo\n"
     ]
    }
   ],
   "source": [
    "# Definimos variable texto\n",
    "texto = \"  Hola Mundo  \"\n",
    "\n",
    "# Creamos la variable sin espacios\n",
    "texto_sin_espacios = texto.strip()\n",
    "\n",
    "# Imprimimos para chequear cambios\n",
    "print (texto_sin_espacios)"
   ]
  },
  {
   "cell_type": "markdown",
   "metadata": {},
   "source": [
    "#### 4. Dado el string `texto = \"Hola Mundo\"`, reemplaza \"Mundo\" por \"Python\"."
   ]
  },
  {
   "cell_type": "code",
   "execution_count": 7,
   "metadata": {},
   "outputs": [
    {
     "name": "stdout",
     "output_type": "stream",
     "text": [
      "Hola Python\n"
     ]
    }
   ],
   "source": [
    "# Definimos variable texto\n",
    "texto = \"Hola Mundo\"\n",
    "\n",
    "# Creamos la variable donde remplazamos mundo por python\n",
    "texto_python = texto.replace(\"Mundo\", \"Python\")\n",
    "\n",
    "# Imprimimos para chequear cambios\n",
    "print (texto_python)"
   ]
  },
  {
   "cell_type": "markdown",
   "metadata": {},
   "source": [
    "#### 5. Dado el string `texto = \"Hola Mundo\"`, divídelo en palabras."
   ]
  },
  {
   "cell_type": "code",
   "execution_count": 8,
   "metadata": {},
   "outputs": [
    {
     "name": "stdout",
     "output_type": "stream",
     "text": [
      "['Hola', 'Mundo']\n"
     ]
    }
   ],
   "source": [
    "# Definimos variable texto\n",
    "texto = \"Hola Mundo\"\n",
    "\n",
    "# Creamos la variable para dividir en palabras\n",
    "texto_dividido = texto.split()\n",
    "\n",
    "# Imprimimos para chequear cambios\n",
    "print (texto_dividido)"
   ]
  },
  {
   "cell_type": "markdown",
   "metadata": {},
   "source": [
    "#### 6. Dada la lista `palabras = [\"Hola\", \"Mundo\"]`, únelas en un solo string separado por un espacio."
   ]
  },
  {
   "cell_type": "code",
   "execution_count": 11,
   "metadata": {},
   "outputs": [
    {
     "name": "stdout",
     "output_type": "stream",
     "text": [
      "Hola Mundo\n"
     ]
    }
   ],
   "source": [
    "# Definimos la lista de palabras\n",
    "palabras = [\"Hola\", \"Mundo\"]\n",
    "\n",
    "# Creamos la variable string\n",
    "string =  \" \".join(palabras)\n",
    "\n",
    "# Imprimimos para chequear cambios\n",
    "print (string)"
   ]
  },
  {
   "cell_type": "markdown",
   "metadata": {},
   "source": [
    "#### 7. Dado el string `texto = \"Hola Mundo\"`, encuentra la posición de la subcadena \"Mundo\"."
   ]
  },
  {
   "cell_type": "code",
   "execution_count": 3,
   "metadata": {},
   "outputs": [
    {
     "name": "stdout",
     "output_type": "stream",
     "text": [
      "La subcadena 'Mundo' se encuentra en la posición: 5\n"
     ]
    }
   ],
   "source": [
    "# Definimos variable texto\n",
    "texto = \"Hola Mundo\"\n",
    "\n",
    "# Encontrar la posición de la subcadena \"Mundo\" usando el método find()\n",
    "posicion = texto.find(\"Mundo\")\n",
    "\n",
    "# Imprimimos para chequear\n",
    "print(\"La subcadena 'Mundo' se encuentra en la posición:\", posicion)"
   ]
  },
  {
   "cell_type": "markdown",
   "metadata": {},
   "source": [
    "#### 8. Dado el string `texto = \"Hola Mundo\"`, comprueba si empieza con \"Hola\"."
   ]
  },
  {
   "cell_type": "code",
   "execution_count": 2,
   "metadata": {},
   "outputs": [
    {
     "name": "stdout",
     "output_type": "stream",
     "text": [
      "0\n"
     ]
    }
   ],
   "source": [
    "# Definimos variable texto\n",
    "texto = \"Hola Mundo\"\n",
    "\n",
    "# Definimos posicion_hola \n",
    "posicion_hola  = texto.find(\"Hola\")\n",
    "\n",
    "# Imprimimos para chequear\n",
    "print (posicion_hola)\n"
   ]
  },
  {
   "cell_type": "markdown",
   "metadata": {},
   "source": [
    "#### 9. Dado el string `texto = \"Hola Mundo\"`, comprueba si termina con \"Mundo\"."
   ]
  },
  {
   "cell_type": "code",
   "execution_count": 3,
   "metadata": {},
   "outputs": [
    {
     "data": {
      "text/plain": [
       "True"
      ]
     },
     "execution_count": 3,
     "metadata": {},
     "output_type": "execute_result"
    }
   ],
   "source": [
    "# Definimos variable texto\n",
    "texto = \"Hola Mundo\"\n",
    "\n",
    "# Chequeamos si el texto termina en \"Mundo\"\n",
    "texto.endswith(\"Mundo\")"
   ]
  },
  {
   "cell_type": "markdown",
   "metadata": {},
   "source": [
    "#### 10. Dado el string `texto = \"12345\"`, comprueba si todos los caracteres son dígitos."
   ]
  },
  {
   "cell_type": "code",
   "execution_count": 6,
   "metadata": {},
   "outputs": [
    {
     "data": {
      "text/plain": [
       "str"
      ]
     },
     "execution_count": 6,
     "metadata": {},
     "output_type": "execute_result"
    }
   ],
   "source": [
    "# Definimos variable texto\n",
    "texto = \"12345\"\n",
    "\n",
    "# Definimos de que tipo es la variable texto\n",
    "type(texto)"
   ]
  },
  {
   "cell_type": "markdown",
   "metadata": {},
   "source": [
    "#### 11. Dado el string `texto = \"Hola Mundo Hola\"`, cuenta cuántas veces aparece \"Hola\"."
   ]
  },
  {
   "cell_type": "code",
   "execution_count": 1,
   "metadata": {},
   "outputs": [
    {
     "name": "stdout",
     "output_type": "stream",
     "text": [
      "El número de ocurrencias de 'Hola' es: 2\n"
     ]
    }
   ],
   "source": [
    "# Definimos variable texto\n",
    "texto = \"Hola Mundo Hola\"\n",
    "\n",
    "# Definimos cadena a buscar \n",
    "sub_cadena = \"Hola\"\n",
    "\n",
    "# Definimos la variable que cuenta\n",
    "contador = texto.count(sub_cadena)\n",
    "\n",
    "# Imprimimos para chequear\n",
    "print(f\"El número de ocurrencias de '{sub_cadena}' es: {contador}\")\n"
   ]
  },
  {
   "cell_type": "markdown",
   "metadata": {},
   "source": [
    "#### 12. Dado el string `texto = \"hola mundo\"`, capitaliza la primera letra."
   ]
  },
  {
   "cell_type": "code",
   "execution_count": 4,
   "metadata": {},
   "outputs": [
    {
     "name": "stdout",
     "output_type": "stream",
     "text": [
      "Hola mundo\n"
     ]
    }
   ],
   "source": [
    "# Definimos variable texto\n",
    "texto = \"hola mundo\"\n",
    "\n",
    "# Definimos variable con la primer letra en mayuscula\n",
    "texto_mayusculas_primer_letra = texto.capitalize()\n",
    "\n",
    "# Imprimimos para chequear\n",
    "print (texto_mayusculas_primer_letra)"
   ]
  },
  {
   "cell_type": "markdown",
   "metadata": {},
   "source": [
    "#### 13. Dado el string `texto = \"hola mundo\"`, pon en mayúscula la primera letra de cada palabra."
   ]
  },
  {
   "cell_type": "code",
   "execution_count": 5,
   "metadata": {},
   "outputs": [
    {
     "name": "stdout",
     "output_type": "stream",
     "text": [
      "Hola Mundo\n"
     ]
    }
   ],
   "source": [
    "# Definimos variable texto\n",
    "texto = \"hola mundo\"\n",
    "\n",
    "# Definimos variable con la primer letra en mayuscula de cada palabra\n",
    "texto_mayusculas_cada_palabra = texto.title()\n",
    "\n",
    "# Imprimimos para chequear\n",
    "print (texto_mayusculas_cada_palabra)"
   ]
  },
  {
   "cell_type": "markdown",
   "metadata": {},
   "source": [
    "#### 14. Dado el string `texto = \"HolaMundo\"`, comprueba si todos los caracteres son letras."
   ]
  },
  {
   "cell_type": "code",
   "execution_count": 15,
   "metadata": {},
   "outputs": [
    {
     "name": "stdout",
     "output_type": "stream",
     "text": [
      "True\n"
     ]
    }
   ],
   "source": [
    "# Definimos variable texto\n",
    "texto = \"HolaMundo\"\n",
    "# Creamos la variable resultado para comprobar si todos los caracteres son letra\n",
    "resultado = texto.isalpha()\n",
    "# Imprimimos para chequear\n",
    "print(resultado)"
   ]
  },
  {
   "cell_type": "markdown",
   "metadata": {},
   "source": [
    "#### 15. Dado el string `texto = \"Hola Mundo\"`, invierte el caso de cada letra."
   ]
  },
  {
   "cell_type": "code",
   "execution_count": 16,
   "metadata": {},
   "outputs": [
    {
     "name": "stdout",
     "output_type": "stream",
     "text": [
      "hOLA mUNDO\n"
     ]
    }
   ],
   "source": [
    "# Definimos variable texto\n",
    "texto = \"Hola Mundo\"\n",
    "\n",
    "# Creamos variable que invierte string\n",
    "invertido = texto.swapcase()\n",
    "\n",
    "# Imprimimos para chequear\n",
    "print(invertido)"
   ]
  }
 ],
 "metadata": {
  "kernelspec": {
   "display_name": "contenido",
   "language": "python",
   "name": "python3"
  },
  "language_info": {
   "codemirror_mode": {
    "name": "ipython",
    "version": 3
   },
   "file_extension": ".py",
   "mimetype": "text/x-python",
   "name": "python",
   "nbconvert_exporter": "python",
   "pygments_lexer": "ipython3",
   "version": "3.12.4"
  }
 },
 "nbformat": 4,
 "nbformat_minor": 2
}

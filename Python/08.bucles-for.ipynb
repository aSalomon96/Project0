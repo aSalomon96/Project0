{
 "cells": [
  {
   "cell_type": "markdown",
   "metadata": {},
   "source": [
    "<div style=\"text-align: center;\">\n",
    "  <img src=\"https://github.com/Hack-io-Data/Imagenes/blob/main/01-LogosHackio/logo_celeste@4x.png?raw=true\" alt=\"logo hack(io)\" />\n",
    "</div>"
   ]
  },
  {
   "cell_type": "markdown",
   "metadata": {},
   "source": [
    "####  1. Genera una lista de números del 0 al 4 y luego imprime cada número en la lista usando un `bucle for`. "
   ]
  },
  {
   "cell_type": "code",
   "execution_count": 2,
   "metadata": {},
   "outputs": [
    {
     "name": "stdout",
     "output_type": "stream",
     "text": [
      "Estamos accediendo al elemento 0\n",
      "Estamos accediendo al elemento 1\n",
      "Estamos accediendo al elemento 2\n",
      "Estamos accediendo al elemento 3\n",
      "Estamos accediendo al elemento 4\n"
     ]
    }
   ],
   "source": [
    "lista_num = list(range(5))\n",
    "\n",
    "for num in lista_num:\n",
    "    print(f\"Estamos accediendo al elemento {num}\")"
   ]
  },
  {
   "cell_type": "markdown",
   "metadata": {},
   "source": [
    "#### 2. Itera sobre una lista de frutas y muestra cada fruta en mayúsculas. \n"
   ]
  },
  {
   "cell_type": "code",
   "execution_count": 5,
   "metadata": {},
   "outputs": [
    {
     "name": "stdout",
     "output_type": "stream",
     "text": [
      "El elemento en mayusculas es BANANA\n",
      "El elemento en mayusculas es MANZANA\n",
      "El elemento en mayusculas es KIWI\n",
      "El elemento en mayusculas es NARANJA\n",
      "El elemento en mayusculas es TOMATE\n"
     ]
    }
   ],
   "source": [
    "frutas = [\"banana\", \"manzana\", \"kiwi\", \"naranja\", \"tomate\"]\n",
    "\n",
    "for fruta in frutas: \n",
    "    print (\"El elemento en mayusculas es\", fruta.upper())"
   ]
  },
  {
   "cell_type": "markdown",
   "metadata": {},
   "source": [
    "####  3. Genera un bucle while que imprima los números del 0 al 4. \n"
   ]
  },
  {
   "cell_type": "code",
   "execution_count": 2,
   "metadata": {},
   "outputs": [
    {
     "name": "stdout",
     "output_type": "stream",
     "text": [
      "Contador: 0\n",
      "Contador: 1\n",
      "Contador: 2\n",
      "Contador: 3\n",
      "Contador: 4\n"
     ]
    }
   ],
   "source": [
    "# Definimos una variable\n",
    "contador = 0\n",
    "\n",
    "# Usamos un bucle while\n",
    "while contador < 5:\n",
    "    print(\"Contador:\", contador)\n",
    "    contador += 1"
   ]
  },
  {
   "cell_type": "markdown",
   "metadata": {},
   "source": [
    "#### 4. Genera un bucle del 0 al 9, pero que se detenga en el 5.\n"
   ]
  },
  {
   "cell_type": "code",
   "execution_count": 4,
   "metadata": {},
   "outputs": [
    {
     "name": "stdout",
     "output_type": "stream",
     "text": [
      "0\n",
      "1\n",
      "2\n",
      "3\n",
      "4\n",
      "5\n"
     ]
    }
   ],
   "source": [
    "for i in range(10):\n",
    "    if i == 6:\n",
    "        break\n",
    "    print(i)"
   ]
  },
  {
   "cell_type": "markdown",
   "metadata": {},
   "source": [
    "#### 5. Recorre los números del 0 al 9 e imprime solo los números impares."
   ]
  },
  {
   "cell_type": "code",
   "execution_count": 5,
   "metadata": {},
   "outputs": [
    {
     "name": "stdout",
     "output_type": "stream",
     "text": [
      "1\n",
      "3\n",
      "5\n",
      "7\n",
      "9\n"
     ]
    }
   ],
   "source": [
    "for i in range(10):\n",
    "    if i % 2 != 0:\n",
    "        print(i)"
   ]
  },
  {
   "cell_type": "markdown",
   "metadata": {},
   "source": [
    "#### 6. Dada la lista `[10, 20, 30, 40, 50]`, calcula la suma de todos los elementos usando un bucle `for`."
   ]
  },
  {
   "cell_type": "code",
   "execution_count": 6,
   "metadata": {},
   "outputs": [
    {
     "name": "stdout",
     "output_type": "stream",
     "text": [
      "La suma de todos los elementos es: 150\n"
     ]
    }
   ],
   "source": [
    "lista = [10, 20, 30, 40, 50]\n",
    "total_suma = 0\n",
    "\n",
    "for numeros in lista:\n",
    "    total_suma += numeros\n",
    "\n",
    "print(\"La suma de todos los elementos es:\", total_suma)"
   ]
  },
  {
   "cell_type": "markdown",
   "metadata": {},
   "source": [
    "#### 7. Dada la cadena `\"Hola mundo\"`, cuenta cuántas veces aparecen las vocales (`a`, `e`, `i`, `o`, `u`) usando un bucle `for`.\n"
   ]
  },
  {
   "cell_type": "code",
   "execution_count": 7,
   "metadata": {},
   "outputs": [
    {
     "name": "stdout",
     "output_type": "stream",
     "text": [
      "La vocal 'a' aparece 1 veces.\n",
      "La vocal 'e' aparece 0 veces.\n",
      "La vocal 'i' aparece 0 veces.\n",
      "La vocal 'o' aparece 2 veces.\n",
      "La vocal 'u' aparece 1 veces.\n"
     ]
    }
   ],
   "source": [
    "str = \"Hola Mundo\"\n",
    "vocales = \"aeiou\"\n",
    "contador_vocales = {vocal: 0 for vocal in vocales}\n",
    "\n",
    "\n",
    "for caracter in str.lower():\n",
    "    if caracter in contador_vocales:\n",
    "        contador_vocales[caracter] += 1\n",
    "\n",
    "for vocal, contador in contador_vocales.items():\n",
    "    print(f\"La vocal '{vocal}' aparece {contador} veces.\")\n",
    " \n"
   ]
  },
  {
   "cell_type": "markdown",
   "metadata": {},
   "source": [
    "#### 8. Dada la cadena `\"Python\"`, usa un bucle `for` para imprimir los caracteres en orden inverso (`n`, `o`, `h`, `t`, `y`, `P`).\n"
   ]
  },
  {
   "cell_type": "code",
   "execution_count": 10,
   "metadata": {},
   "outputs": [
    {
     "name": "stdout",
     "output_type": "stream",
     "text": [
      "n\n",
      "o\n",
      "h\n",
      "t\n",
      "y\n",
      "P\n"
     ]
    }
   ],
   "source": [
    "cadena = \"Python\"\n",
    "\n",
    "for caracter in reversed(cadena):\n",
    "    print(caracter)"
   ]
  },
  {
   "cell_type": "markdown",
   "metadata": {},
   "source": [
    "#### 9. Dada la lista `[1, 2, 3, 4, 5]`, multiplica todos sus elementos usando un bucle `for` y almacena los resultados en una lista nueva. \n"
   ]
  },
  {
   "cell_type": "code",
   "execution_count": 11,
   "metadata": {},
   "outputs": [
    {
     "name": "stdout",
     "output_type": "stream",
     "text": [
      "[120]\n"
     ]
    }
   ],
   "source": [
    "lista = [1, 2, 3, 4, 5]\n",
    "producto = 1\n",
    "\n",
    "for elemento in lista:\n",
    "    producto *= elemento\n",
    "\n",
    "nueva_lista = [producto]\n",
    "\n",
    "print(nueva_lista)"
   ]
  },
  {
   "cell_type": "markdown",
   "metadata": {},
   "source": [
    "#### 10. Dada la lista `[1, 2, 3, 4, 5, 6, 7, 8, 9, 10]`, utiliza un bucle `for` para contar cuántos números son pares y cuántos son impares."
   ]
  },
  {
   "cell_type": "code",
   "execution_count": 13,
   "metadata": {},
   "outputs": [
    {
     "name": "stdout",
     "output_type": "stream",
     "text": [
      "N° pares: 5\n",
      "N° impares: 5\n"
     ]
    }
   ],
   "source": [
    "lista = [1, 2, 3, 4, 5, 6, 7, 8, 9, 10]\n",
    "contar_pares = 0\n",
    "contar_impares = 0\n",
    "\n",
    "for numero in lista:\n",
    "    if numero % 2 == 0:\n",
    "        contar_pares += 1\n",
    "    else:\n",
    "        contar_impares += 1\n",
    "\n",
    "print(f\"N° pares: {contar_pares}\")\n",
    "print(f\"N° impares: {contar_impares}\")\n",
    "        "
   ]
  },
  {
   "cell_type": "markdown",
   "metadata": {},
   "source": [
    "#### 11. Escribe un programa que solicite al usuario un número entero positivo (`n`) y calcule la suma de todos los números primos menores o iguales a `n`. Utiliza un bucle `for` para iterar sobre cada número y verifica si es primo."
   ]
  },
  {
   "cell_type": "code",
   "execution_count": 17,
   "metadata": {},
   "outputs": [
    {
     "name": "stdout",
     "output_type": "stream",
     "text": [
      "La suma de todos los números primos menores o iguales a 4 es: 5\n"
     ]
    }
   ],
   "source": [
    "def es_primo(numero):\n",
    "    if numero < 2:\n",
    "        return False\n",
    "    for i in range(2, int(numero ** 0.5) + 1):\n",
    "        if numero % i == 0:\n",
    "            return False\n",
    "    return True\n",
    "\n",
    "def suma_primos(n):\n",
    "    suma = 0\n",
    "    for num in range(2, n + 1):\n",
    "        if es_primo(num):\n",
    "            suma += num\n",
    "    return suma\n",
    "\n",
    "# Solicitar al usuario un número entero positivo\n",
    "n = int(input(\"Ingrese un número entero positivo: \"))\n",
    "\n",
    "if n > 0:\n",
    "    resultado = suma_primos(n)\n",
    "    print(f\"La suma de todos los números primos menores o iguales a {n} es: {resultado}\")\n",
    "else:\n",
    "    print(\"Por favor, ingrese un número entero positivo.\")"
   ]
  },
  {
   "cell_type": "markdown",
   "metadata": {},
   "source": [
    "#### 12. Escribe un programa que solicite al usuario un número entero positivo (`n`) y luego imprima un patrón de asteriscos como el siguiente ejemplo para `n = 5`:\n",
    "```\n",
    "*\n",
    "**\n",
    "***\n",
    "****\n",
    "*****\n",
    "```\n",
    "Utiliza un bucle `for` anidado para controlar la cantidad de asteriscos en cada línea."
   ]
  },
  {
   "cell_type": "code",
   "execution_count": 19,
   "metadata": {},
   "outputs": [
    {
     "name": "stdout",
     "output_type": "stream",
     "text": [
      "*\n",
      "**\n",
      "***\n",
      "****\n",
      "*****\n",
      "******\n",
      "*******\n",
      "********\n",
      "*********\n",
      "**********\n",
      "***********\n",
      "************\n",
      "*************\n",
      "**************\n",
      "***************\n",
      "****************\n",
      "*****************\n",
      "******************\n",
      "*******************\n",
      "********************\n",
      "*********************\n",
      "**********************\n",
      "***********************\n",
      "************************\n",
      "*************************\n"
     ]
    }
   ],
   "source": [
    "# Solicitar al usuario un numero entero positivo\n",
    "n = int(input(\"Ingrese un numero entero positivo: \"))\n",
    "\n",
    "if n > 0:\n",
    "    # Usar un bucle `for` para controlar la cantidad de líneas\n",
    "    for i in range(1, n + 1):\n",
    "        # En cada linea, imprimir `i` asteriscos\n",
    "        for j in range(i):\n",
    "            print(\"*\", end=\"\")\n",
    "        print()  # Salto de linea después de cada fila de asteriscos\n",
    "else:\n",
    "    print(\"Por favor, ingrese un numero entero positivo.\")"
   ]
  },
  {
   "cell_type": "markdown",
   "metadata": {},
   "source": [
    "#### 13. Dado un texto, utiliza un bucle `for` para contar cuántas veces aparece cada palabra en el texto. Ignora mayúsculas/minúsculas y los signos de puntuación."
   ]
  },
  {
   "cell_type": "code",
   "execution_count": 20,
   "metadata": {},
   "outputs": [
    {
     "name": "stdout",
     "output_type": "stream",
     "text": [
      "La palabra 'hola' aparece 1 veces.\n",
      "La palabra 'como' aparece 1 veces.\n",
      "La palabra 'va' aparece 1 veces.\n"
     ]
    }
   ],
   "source": [
    "import string\n",
    "\n",
    "def contar_palabras(texto):\n",
    "    # Eliminar signos de puntuación\n",
    "    texto_limpio = texto.translate(str.maketrans('', '', string.punctuation))\n",
    "    \n",
    "    # Convertir el texto a minúsculas\n",
    "    texto_limpio = texto_limpio.lower()\n",
    "    \n",
    "    # Dividir el texto en palabras\n",
    "    palabras = texto_limpio.split()\n",
    "    \n",
    "    # Contar la frecuencia de cada palabra\n",
    "    conteo_palabras = {}\n",
    "    \n",
    "    for palabra in palabras:\n",
    "        if palabra in conteo_palabras:\n",
    "            conteo_palabras[palabra] += 1\n",
    "        else:\n",
    "            conteo_palabras[palabra] = 1\n",
    "    \n",
    "    return conteo_palabras\n",
    "\n",
    "# Solicitar al usuario que ingrese un texto\n",
    "texto = input(\"Ingrese un texto: \")\n",
    "\n",
    "# Obtener el conteo de palabras\n",
    "conteo = contar_palabras(texto)\n",
    "\n",
    "# Imprimir el conteo de palabras\n",
    "for palabra, cantidad in conteo.items():\n",
    "    print(f\"La palabra '{palabra}' aparece {cantidad} veces.\")"
   ]
  },
  {
   "cell_type": "markdown",
   "metadata": {},
   "source": [
    "#### 14. Escribe un programa que solicite al usuario dos números enteros positivos (`inicio` y `fin`, donde `inicio <= fin`) y luego calcule la suma de los números pares y la suma de los números impares en ese rango. Utiliza un bucle `for` para iterar sobre cada número y una estructura `if-else` para clasificar y sumar los números pares e impares."
   ]
  },
  {
   "cell_type": "code",
   "execution_count": 21,
   "metadata": {},
   "outputs": [
    {
     "name": "stdout",
     "output_type": "stream",
     "text": [
      "La suma de los números pares en el rango 2 a 9 es: 20\n",
      "La suma de los números impares en el rango 2 a 9 es: 24\n"
     ]
    }
   ],
   "source": [
    "# Solicitar al usuario dos números enteros positivos\n",
    "inicio = int(input(\"Ingrese el número entero positivo de inicio: \"))\n",
    "fin = int(input(\"Ingrese el número entero positivo de fin (debe ser mayor o igual que inicio): \"))\n",
    "\n",
    "# Verificar que los números ingresados sean válidos\n",
    "if inicio > fin:\n",
    "    print(\"El número de inicio debe ser menor o igual al número de fin.\")\n",
    "else:\n",
    "    suma_pares = 0\n",
    "    suma_impares = 0\n",
    "\n",
    "    # Usar un bucle `for` para iterar sobre el rango de números\n",
    "    for numero in range(inicio, fin + 1):\n",
    "        if numero % 2 == 0:\n",
    "            suma_pares += numero\n",
    "        else:\n",
    "            suma_impares += numero\n",
    "\n",
    "    # Imprimir las sumas de números pares e impares\n",
    "    print(f\"La suma de los números pares en el rango {inicio} a {fin} es: {suma_pares}\")\n",
    "    print(f\"La suma de los números impares en el rango {inicio} a {fin} es: {suma_impares}\")"
   ]
  },
  {
   "cell_type": "markdown",
   "metadata": {},
   "source": [
    "#### 15. Escribe un programa que solicite al usuario un número entero positivo (`n`) y luego identifique todos los números primos menores o iguales a `n`. Para cada número, imprime si es primo o no usando un bucle `for` y una estructura `if-else` para verificar la condición de primalidad."
   ]
  },
  {
   "cell_type": "code",
   "execution_count": 22,
   "metadata": {},
   "outputs": [
    {
     "name": "stdout",
     "output_type": "stream",
     "text": [
      "2 es primo\n",
      "3 es primo\n",
      "4 no es primo\n",
      "5 es primo\n",
      "6 no es primo\n",
      "7 es primo\n",
      "8 no es primo\n",
      "9 no es primo\n",
      "10 no es primo\n",
      "11 es primo\n",
      "12 no es primo\n",
      "13 es primo\n",
      "14 no es primo\n",
      "15 no es primo\n",
      "16 no es primo\n",
      "17 es primo\n",
      "18 no es primo\n",
      "19 es primo\n",
      "20 no es primo\n",
      "21 no es primo\n",
      "22 no es primo\n",
      "23 es primo\n",
      "24 no es primo\n",
      "25 no es primo\n",
      "26 no es primo\n",
      "27 no es primo\n",
      "28 no es primo\n",
      "29 es primo\n",
      "30 no es primo\n",
      "31 es primo\n",
      "32 no es primo\n",
      "33 no es primo\n",
      "34 no es primo\n",
      "35 no es primo\n",
      "36 no es primo\n",
      "37 es primo\n",
      "38 no es primo\n",
      "39 no es primo\n",
      "40 no es primo\n",
      "41 es primo\n",
      "42 no es primo\n",
      "43 es primo\n",
      "44 no es primo\n",
      "45 no es primo\n",
      "46 no es primo\n",
      "47 es primo\n",
      "48 no es primo\n",
      "49 no es primo\n",
      "50 no es primo\n",
      "51 no es primo\n",
      "52 no es primo\n",
      "53 es primo\n",
      "54 no es primo\n",
      "55 no es primo\n",
      "56 no es primo\n",
      "57 no es primo\n"
     ]
    }
   ],
   "source": [
    "def es_primo(numero):\n",
    "    \"\"\"Determina si un número es primo.\"\"\"\n",
    "    if numero <= 1:\n",
    "        return False\n",
    "    if numero == 2:\n",
    "        return True  # 2 es el único número par primo\n",
    "    if numero % 2 == 0:\n",
    "        return False\n",
    "    for i in range(3, int(numero ** 0.5) + 1, 2):\n",
    "        if numero % i == 0:\n",
    "            return False\n",
    "    return True\n",
    "\n",
    "# Solicitar al usuario un número entero positivo\n",
    "n = int(input(\"Ingrese un número entero positivo: \"))\n",
    "\n",
    "if n <= 0:\n",
    "    print(\"Por favor, ingrese un número entero positivo.\")\n",
    "else:\n",
    "    for numero in range(2, n + 1):\n",
    "        if es_primo(numero):\n",
    "            print(f\"{numero} es primo\")\n",
    "        else:\n",
    "            print(f\"{numero} no es primo\")"
   ]
  },
  {
   "cell_type": "markdown",
   "metadata": {},
   "source": [
    "#### 16.Dada una lista de precios `[100, 200, 300, 400, 500]`, aplica un descuento del 10% a todos los precios mayores a `250`. Imprime la lista actualizada de precios después de aplicar el descuento utilizando un bucle `for`. "
   ]
  },
  {
   "cell_type": "code",
   "execution_count": 28,
   "metadata": {},
   "outputs": [
    {
     "name": "stdout",
     "output_type": "stream",
     "text": [
      "Lista de precios actualizada:\n",
      "100.00\n",
      "200.00\n",
      "270.00\n",
      "360.00\n",
      "450.00\n"
     ]
    }
   ],
   "source": [
    "precios = [100, 200, 300, 400, 500]\n",
    "\n",
    "# Aplicar descuento del 10% a los precios mayores a 250\n",
    "for i in range(len(precios)):\n",
    "    if precios[i] > 250:\n",
    "        precios[i] *= 0.90 # Aplicar el descuento del 10%\n",
    "\n",
    "# Imprimir la lista actualizada de precios\n",
    "print(\"Lista de precios actualizada:\")\n",
    "for precio in precios:\n",
    "    print(f\"{precio:.2f}\")"
   ]
  },
  {
   "cell_type": "markdown",
   "metadata": {},
   "source": [
    "#### 17. Dada una lista de calificaciones de estudiantes `[85, 92, 78, 90, 88]`, clasifica a cada estudiante como \"Aprobado\" si la calificación es mayor o igual a `80` y como \"Reprobado\" si es menor a `80`. Imprime el nombre de cada estudiante junto con su estado utilizando un bucle `for` y una estructura `if-else`.\n"
   ]
  },
  {
   "cell_type": "code",
   "execution_count": 29,
   "metadata": {},
   "outputs": [
    {
     "name": "stdout",
     "output_type": "stream",
     "text": [
      "Estudiante 1: Aprobado\n",
      "Estudiante 2: Aprobado\n",
      "Estudiante 3: Reprobado\n",
      "Estudiante 4: Aprobado\n",
      "Estudiante 5: Aprobado\n"
     ]
    }
   ],
   "source": [
    "# Lista de calificaciones de estudiantes\n",
    "calificaciones = [85, 92, 78, 90, 88]\n",
    "\n",
    "# Nombres de los estudiantes (suponiendo que hay el mismo número de nombres que de calificaciones)\n",
    "nombres_estudiantes = [\"Estudiante 1\", \"Estudiante 2\", \"Estudiante 3\", \"Estudiante 4\", \"Estudiante 5\"]\n",
    "\n",
    "# Verificar que el número de nombres y calificaciones coinciden\n",
    "if len(calificaciones) != len(nombres_estudiantes):\n",
    "    print(\"El número de calificaciones no coincide con el número de nombres de estudiantes.\")\n",
    "else:\n",
    "    # Clasificar y imprimir el estado de cada estudiante\n",
    "    for i in range(len(calificaciones)):\n",
    "        calificacion = calificaciones[i]\n",
    "        nombre = nombres_estudiantes[i]\n",
    "        \n",
    "        if calificacion >= 80:\n",
    "            estado = \"Aprobado\"\n",
    "        else:\n",
    "            estado = \"Reprobado\"\n",
    "        \n",
    "        print(f\"{nombre}: {estado}\")"
   ]
  },
  {
   "cell_type": "markdown",
   "metadata": {},
   "source": [
    "\n",
    "#### 18. Escribe un programa que solicite al usuario dos números enteros positivos (`inicio`, `fin`) y otro número entero positivo (`divisor`). Encuentra el número más grande en el rango desde `inicio` hasta `fin` que sea divisible por `divisor`. Utiliza un bucle `for` y una estructura `if-else` para verificar y mantener el registro del número más grande divisible por el divisor dado.\n"
   ]
  },
  {
   "cell_type": "code",
   "execution_count": 30,
   "metadata": {},
   "outputs": [
    {
     "name": "stdout",
     "output_type": "stream",
     "text": [
      "El número más grande en el rango de 2 a 96 que es divisible por 5 es: 95\n"
     ]
    }
   ],
   "source": [
    "# Solicitar al usuario tres números enteros positivos\n",
    "inicio = int(input(\"Ingrese el número entero positivo de inicio: \"))\n",
    "fin = int(input(\"Ingrese el número entero positivo de fin (debe ser mayor o igual que inicio): \"))\n",
    "divisor = int(input(\"Ingrese el número entero positivo divisor: \"))\n",
    "\n",
    "# Verificar que los números sean positivos y válidos\n",
    "if inicio <= 0 or fin <= 0 or divisor <= 0:\n",
    "    print(\"Todos los números deben ser enteros positivos.\")\n",
    "elif inicio > fin:\n",
    "    print(\"El número de inicio debe ser menor o igual al número de fin.\")\n",
    "else:\n",
    "    # Inicializar la variable para almacenar el número más grande divisible por el divisor\n",
    "    mayor_divisible = None\n",
    "\n",
    "    # Usar un bucle `for` para iterar desde `fin` hasta `inicio` (en orden descendente)\n",
    "    for numero in range(fin, inicio - 1, -1):\n",
    "        if numero % divisor == 0:\n",
    "            mayor_divisible = numero\n",
    "            break  # Salir del bucle una vez encontrado el número más grande divisible\n",
    "    \n",
    "    if mayor_divisible is not None:\n",
    "        print(f\"El número más grande en el rango de {inicio} a {fin} que es divisible por {divisor} es: {mayor_divisible}\")\n",
    "    else:\n",
    "        print(f\"No hay números en el rango de {inicio} a {fin} que sean divisibles por {divisor}.\")"
   ]
  }
 ],
 "metadata": {
  "kernelspec": {
   "display_name": "hackio",
   "language": "python",
   "name": "python3"
  },
  "language_info": {
   "codemirror_mode": {
    "name": "ipython",
    "version": 3
   },
   "file_extension": ".py",
   "mimetype": "text/x-python",
   "name": "python",
   "nbconvert_exporter": "python",
   "pygments_lexer": "ipython3",
   "version": "3.12.4"
  }
 },
 "nbformat": 4,
 "nbformat_minor": 2
}

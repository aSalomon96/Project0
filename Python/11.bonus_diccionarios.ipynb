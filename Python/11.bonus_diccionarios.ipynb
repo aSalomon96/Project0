{
 "cells": [
  {
   "cell_type": "markdown",
   "metadata": {},
   "source": [
    "<div style=\"text-align: center;\">\n",
    "  <img src=\"https://github.com/Hack-io-Data/Imagenes/blob/main/01-LogosHackio/logo_celeste@4x.png?raw=true\" alt=\"esquema\" />\n",
    "</div>"
   ]
  },
  {
   "cell_type": "markdown",
   "metadata": {},
   "source": [
    "\n",
    "\n",
    "En este ejercicios deberéis contestar a una serie de preguntas, usando los datos que os describimos a continuación. Los datos incluyen una lista de ciclistas, cada uno con los siguientes atributos:\n",
    "\n",
    "1. **Nombre**: Nombre del ciclista (por ejemplo, \"Juan\").\n",
    "\n",
    "2. **Apellido**: Apellido del ciclista (por ejemplo, \"Pérez\").\n",
    "\n",
    "3. **Fecha de Nacimiento**: Fecha de nacimiento en formato `YYYY-MM-DD` (por ejemplo, \"1990-05-15\").\n",
    "\n",
    "4. **Nacionalidad**: Nacionalidad del ciclista (por ejemplo, \"Español\").\n",
    "\n",
    "5. **Datos Biométricos**: Incluye atributos adicionales:\n",
    "\n",
    "   - **Edad**: Edad del ciclista (por ejemplo, 32 años).\n",
    "\n",
    "   - **Peso**: Peso en kilogramos (por ejemplo, 70 kg).\n",
    "\n",
    "   - **Altura**: Altura en centímetros (por ejemplo, 175 cm).\n",
    "\n",
    "      Ejemplo de un ciclista:\n",
    "      ```json\n",
    "      {\n",
    "        \"nombre\": \"Juan\",\n",
    "        \"apellido\": \"Pérez\",\n",
    "        \"fecha_nacimiento\": \"1990-05-15\",\n",
    "        \"nacionalidad\": \"Español\",\n",
    "        \"datos_biometricos\": {\n",
    "          \"edad\": 32,\n",
    "          \"peso_kg\": 70,\n",
    "          \"altura_cm\": 175\n",
    "        }\n",
    "      }\n",
    "      ```\n",
    "\n",
    "6. Los datos también incluyen una lista de localizaciones, cada una con los siguientes atributos:\n",
    "\n",
    "    - **Nombre**: Nombre de la localización (por ejemplo, \"París\").\n",
    "\n",
    "    - **Fecha**: Fecha en formato `DD/MM/YYYY` (por ejemplo, \"26/06/2022\").\n",
    "\n",
    "    - **Tipo**: Tipo de localización (por ejemplo, \"Inicio\", \"Etapa\").\n",
    "\n",
    "    - **Distancia**: Distancia en kilómetros desde el inicio (por ejemplo, \"0 km\").\n",
    "\n",
    "    - **Altitud**: Altitud en metros sobre el nivel del mar (por ejemplo, \"0 m\").\n",
    "\n",
    "      Ejemplo de una localización:\n",
    "      ```json\n",
    "      {\n",
    "        \"nombre\": \"París\",\n",
    "        \"fecha\": \"26/06/2022\",\n",
    "        \"tipo\": \"Inicio\",\n",
    "        \"distancia\": \"0 km\",\n",
    "        \"altitud\": \"0 m\"\n",
    "      }\n",
    "      ```"
   ]
  },
  {
   "cell_type": "code",
   "execution_count": 2,
   "metadata": {},
   "outputs": [],
   "source": [
    "response = {\n",
    "    'ciclistas': [\n",
    "              {'nombre': 'Juan', 'apellido': 'Pérez', 'fecha_nacimiento': '1990-05-15', 'nacionalidad': 'Español', 'datos_biometricos': {'edad': 32, 'peso_kg': 70, 'altura_cm': 175}},\n",
    "              {'nombre': 'Maria', 'apellido': 'García', 'fecha_nacimiento': '1985-08-20', 'nacionalidad': 'Mexicana', 'datos_biometricos': {'edad': 37, 'peso_kg': 65, 'altura_cm': 168}},\n",
    "              {'nombre': 'Luis', 'apellido': 'Hernández', 'fecha_nacimiento': '1995-02-10', 'nacionalidad': 'Español', 'datos_biometricos': {'edad': 27, 'peso_kg': 68, 'altura_cm': 180}},\n",
    "              {'nombre': 'Ana', 'apellido': 'González', 'fecha_nacimiento': '1992-07-25', 'nacionalidad': 'Español', 'datos_biometricos': {'edad': 32, 'peso_kg': 65, 'altura_cm': 165}},\n",
    "              {'nombre': 'José', 'apellido': 'Rodríguez', 'fecha_nacimiento': '1991-09-10', 'nacionalidad': 'Español', 'datos_biometricos': {'edad': 31, 'peso_kg': 75, 'altura_cm': 185}},\n",
    "              {'nombre': 'María', 'apellido': 'López', 'fecha_nacimiento': '1993-04-20', 'nacionalidad': 'Español', 'datos_biometricos': {'edad': 30, 'peso_kg': 60, 'altura_cm': 160}},\n",
    "              {'nombre': 'Juan', 'apellido': 'Sánchez', 'fecha_nacimiento': '1994-06-15', 'nacionalidad': 'Español', 'datos_biometricos': {'edad': 29, 'peso_kg': 70, 'altura_cm': 175}},\n",
    "              {'nombre': 'Alicia', 'apellido': 'García', 'fecha_nacimiento': '1996-08-20', 'nacionalidad': 'Mexicana', 'datos_biometricos': {'edad': 28, 'peso_kg': 65, 'altura_cm': 168}},\n",
    "              {'nombre': 'José', 'apellido': 'Hernández', 'fecha_nacimiento': '1997-02-10', 'nacionalidad': 'Español', 'datos_biometricos': {'edad': 27, 'peso_kg': 68, 'altura_cm': 180}},\n",
    "              {'nombre': 'María', 'apellido': 'López', 'fecha_nacimiento': '1998-04-20', 'nacionalidad': 'Español', 'datos_biometricos': {'edad': 26, 'peso_kg': 60, 'altura_cm': 160}}\n",
    "                ],\n",
    "    'localizaciones': [\n",
    "              {'nombre': 'París', 'fecha': '26/06/2022', 'tipo': 'Inicio', 'distancia': '0 km', 'altitud': '0 m'},\n",
    "              {'nombre': 'Roubaix', 'fecha': '27/06/2022', 'tipo': 'Etapa', 'distancia': '200 km', 'altitud': '100 m'},\n",
    "              {'nombre': 'Lille', 'fecha': '28/06/2022', 'tipo': 'Etapa', 'distancia': '180 km', 'altitud': '150 m'},\n",
    "              {'nombre': 'Reims', 'fecha': '29/06/2022', 'tipo': 'Etapa', 'distancia': '220 km', 'altitud': '200 m'},\n",
    "              {'nombre': 'Metz', 'fecha': '30/06/2022', 'tipo': 'Etapa', 'distancia': '250 km', 'altitud': '250 m'},\n",
    "              {'nombre': 'Strasbourg', 'fecha': '01/07/2022', 'tipo': 'Etapa', 'distancia': '280 km', 'altitud': '300 m'},\n",
    "              {'nombre': 'Mulhouse', 'fecha': '02/07/2022', 'tipo': 'Etapa', 'distancia': '300 km', 'altitud': '350 m'},\n",
    "              {'nombre': 'Lyon', 'fecha': '03/07/2022', 'tipo': 'Etapa', 'distancia': '350 km', 'altitud': '400 m'},\n",
    "              {'nombre': 'Grenoble', 'fecha': '04/07/2022', 'tipo': 'Etapa', 'distancia': '400 km', 'altitud': '450 m'},\n",
    "              {'nombre': 'Toulouse', 'fecha': '05/07/2022', 'tipo': 'Etapa', 'distancia': '450 km', 'altitud': '500 m'}\n",
    "                   ]\n",
    "}"
   ]
  },
  {
   "cell_type": "markdown",
   "metadata": {},
   "source": [
    "#### 1. ¿Qué tipo de estructura de datos es la variable `response` definida previamente?"
   ]
  },
  {
   "cell_type": "markdown",
   "metadata": {},
   "source": [
    "La variable Response es un diccionario, que contiene dos listas de diccionarios."
   ]
  },
  {
   "cell_type": "markdown",
   "metadata": {
    "vscode": {
     "languageId": "plaintext"
    }
   },
   "source": [
    "#### 2. ¿Cuántos participantes hay en la varible `response`?"
   ]
  },
  {
   "cell_type": "code",
   "execution_count": 3,
   "metadata": {},
   "outputs": [
    {
     "name": "stdout",
     "output_type": "stream",
     "text": [
      "10\n"
     ]
    }
   ],
   "source": [
    "# Número de participantes\n",
    "num_participantes = len(response['ciclistas'])\n",
    "print(num_participantes)"
   ]
  },
  {
   "cell_type": "markdown",
   "metadata": {},
   "source": [
    "#### 3. ¿Cuál es la nacionalidad del primer ciclista?"
   ]
  },
  {
   "cell_type": "code",
   "execution_count": 4,
   "metadata": {},
   "outputs": [
    {
     "name": "stdout",
     "output_type": "stream",
     "text": [
      "Español\n"
     ]
    }
   ],
   "source": [
    "# Nacionalidad del primer ciclista\n",
    "nacionalidad_primer_ciclista = response['ciclistas'][0]['nacionalidad']\n",
    "print(nacionalidad_primer_ciclista)"
   ]
  },
  {
   "cell_type": "markdown",
   "metadata": {},
   "source": [
    "#### 4. ¿Cuál es la fecha de nacimiento del tercer ciclista?"
   ]
  },
  {
   "cell_type": "code",
   "execution_count": 5,
   "metadata": {},
   "outputs": [
    {
     "name": "stdout",
     "output_type": "stream",
     "text": [
      "1995-02-10\n"
     ]
    }
   ],
   "source": [
    "# Fecha de nacimiento del tercer ciclista\n",
    "nacimiento_tercer_ciclista = response['ciclistas'][2]['fecha_nacimiento']\n",
    "print(nacimiento_tercer_ciclista)"
   ]
  },
  {
   "cell_type": "markdown",
   "metadata": {},
   "source": [
    "#### 5. ¿Cuál es el peso en kg del segundo ciclista?"
   ]
  },
  {
   "cell_type": "code",
   "execution_count": 10,
   "metadata": {},
   "outputs": [
    {
     "name": "stdout",
     "output_type": "stream",
     "text": [
      "65\n"
     ]
    }
   ],
   "source": [
    "# Peso del segundo ciclista\n",
    "peso_segundo_ciclista = response['ciclistas'][1]['datos_biometricos']['peso_kg']\n",
    "print(peso_segundo_ciclista)"
   ]
  },
  {
   "cell_type": "markdown",
   "metadata": {},
   "source": [
    "#### 6. ¿Cuál es la altura en cm del último ciclista ?"
   ]
  },
  {
   "cell_type": "code",
   "execution_count": 12,
   "metadata": {},
   "outputs": [
    {
     "name": "stdout",
     "output_type": "stream",
     "text": [
      "160\n"
     ]
    }
   ],
   "source": [
    "altura_ultimo_ciclista = response['ciclistas'][-1]['datos_biometricos']['altura_cm']\n",
    "print(altura_ultimo_ciclista)"
   ]
  },
  {
   "cell_type": "markdown",
   "metadata": {},
   "source": [
    "#### 7. Indica el nombre de los ciclistas que nacieron en el siglo XX. "
   ]
  },
  {
   "cell_type": "code",
   "execution_count": 24,
   "metadata": {},
   "outputs": [
    {
     "name": "stdout",
     "output_type": "stream",
     "text": [
      "['Juan Pérez', 'Maria García', 'Luis Hernández', 'Ana González', 'José Rodríguez', 'María López', 'Juan Sánchez', 'Alicia García', 'José Hernández', 'María López']\n"
     ]
    }
   ],
   "source": [
    "ciclista_nacidos_en_siglo_xx = []\n",
    "\n",
    "for ciclista in response ['ciclistas']:\n",
    "        anio_nacimiento = int (ciclista['fecha_nacimiento'].split('-')[0])\n",
    "        if 1901 <= anio_nacimiento <=2000:\n",
    "                ciclista_nacidos_en_siglo_xx.append(f\"{ciclista['nombre']} {ciclista['apellido']}\")\n",
    "\n",
    "print(ciclista_nacidos_en_siglo_xx)"
   ]
  },
  {
   "cell_type": "markdown",
   "metadata": {},
   "source": [
    "#### 8. ¿Cuál es el nombre completo del cuarto ciclista?"
   ]
  },
  {
   "cell_type": "code",
   "execution_count": 19,
   "metadata": {},
   "outputs": [
    {
     "name": "stdout",
     "output_type": "stream",
     "text": [
      "Ana González\n"
     ]
    }
   ],
   "source": [
    "# Nombre completo del cuarto ciclista\n",
    "cuarto_ciclista = response['ciclistas'][3]\n",
    "nombre_completo_cuarto_ciclista = f\"{cuarto_ciclista['nombre']} {cuarto_ciclista['apellido']}\"\n",
    "print(nombre_completo_cuarto_ciclista)"
   ]
  },
  {
   "cell_type": "markdown",
   "metadata": {},
   "source": [
    "#### 9. Genera una lista con el nombre y apellido de cada ciclista. "
   ]
  },
  {
   "cell_type": "code",
   "execution_count": 28,
   "metadata": {},
   "outputs": [
    {
     "name": "stdout",
     "output_type": "stream",
     "text": [
      "['Juan Pérez', 'Maria García', 'Luis Hernández', 'Ana González', 'José Rodríguez', 'María López', 'Juan Sánchez', 'Alicia García', 'José Hernández', 'María López']\n"
     ]
    }
   ],
   "source": [
    "lista_nombres = []\n",
    "for ciclista in response['ciclistas']:\n",
    "    lista_nombres.append(f\"{ciclista['nombre']} {ciclista['apellido']}\")\n",
    "print (lista_nombres)"
   ]
  },
  {
   "cell_type": "markdown",
   "metadata": {},
   "source": [
    "#### 10. ¿Cuál es la edad del quinto ciclista?"
   ]
  },
  {
   "cell_type": "code",
   "execution_count": 29,
   "metadata": {},
   "outputs": [
    {
     "name": "stdout",
     "output_type": "stream",
     "text": [
      "37\n"
     ]
    }
   ],
   "source": [
    "# edad del segundo ciclista\n",
    "edad_segundo_ciclista = response['ciclistas'][1]['datos_biometricos']['edad']\n",
    "print(edad_segundo_ciclista)"
   ]
  },
  {
   "cell_type": "markdown",
   "metadata": {},
   "source": [
    "#### 11. ¿Cuál es el apellido del sexto ciclista?"
   ]
  },
  {
   "cell_type": "code",
   "execution_count": 30,
   "metadata": {},
   "outputs": [
    {
     "name": "stdout",
     "output_type": "stream",
     "text": [
      "López\n"
     ]
    }
   ],
   "source": [
    "apellido_sexto_ciclista = response['ciclistas'][5]['apellido']\n",
    "print(apellido_sexto_ciclista)"
   ]
  },
  {
   "cell_type": "markdown",
   "metadata": {},
   "source": [
    "#### 12. ¿Cuál es la nacionalidad del último ciclista?"
   ]
  },
  {
   "cell_type": "code",
   "execution_count": 31,
   "metadata": {},
   "outputs": [
    {
     "name": "stdout",
     "output_type": "stream",
     "text": [
      "Español\n"
     ]
    }
   ],
   "source": [
    "nacionalidad_ultimo_ciclista = response['ciclistas'][-1]['nacionalidad']\n",
    "print(nacionalidad_ultimo_ciclista)"
   ]
  },
  {
   "cell_type": "markdown",
   "metadata": {},
   "source": [
    "#### 13. ¿Cuál es la edad media de los ciclistas?"
   ]
  },
  {
   "cell_type": "code",
   "execution_count": 36,
   "metadata": {},
   "outputs": [
    {
     "name": "stdout",
     "output_type": "stream",
     "text": [
      "La edad promedio de los ciclistas es: 29.9\n"
     ]
    }
   ],
   "source": [
    "def calcular_edad_promedio(ciclistas):\n",
    "    \"\"\"Calcula la edad promedio de una lista de ciclistas.\n",
    "\n",
    "    Args:\n",
    "        ciclistas: Una lista de diccionarios, donde cada diccionario representa un ciclista.\n",
    "\n",
    "    Returns:\n",
    "        La edad promedio de los ciclistas.\n",
    "    \"\"\"\n",
    "\n",
    "    edades = []\n",
    "    for ciclista in ciclistas:\n",
    "        edades.append(ciclista['datos_biometricos']['edad'])\n",
    "\n",
    "    if edades:\n",
    "        return sum(edades) / len(edades)\n",
    "    else:\n",
    "        return None  # En caso de que la lista de ciclistas esté vacía\n",
    "\n",
    "edad_promedio = calcular_edad_promedio(response['ciclistas'])\n",
    "print(\"La edad promedio de los ciclistas es:\", edad_promedio)"
   ]
  },
  {
   "cell_type": "markdown",
   "metadata": {},
   "source": [
    "#### 14. ¿Cuántas localizaciones diferentes hay?"
   ]
  },
  {
   "cell_type": "code",
   "execution_count": 37,
   "metadata": {},
   "outputs": [
    {
     "name": "stdout",
     "output_type": "stream",
     "text": [
      "Hay 10 localizaciones únicas.\n"
     ]
    }
   ],
   "source": [
    "def contar_localizaciones_unicas(datos):\n",
    "    \"\"\"Cuenta el número de localizaciones únicas en una base de datos de una carrera.\n",
    "\n",
    "    Args:\n",
    "        datos: Un diccionario que contiene los datos de la carrera, incluyendo una lista de localizaciones.\n",
    "\n",
    "    Returns:\n",
    "        El número de localizaciones únicas.\n",
    "    \"\"\"\n",
    "\n",
    "    localizaciones = set()\n",
    "    for localizacion in datos['localizaciones']:\n",
    "        localizaciones.add(localizacion['nombre'])\n",
    "    return len(localizaciones)\n",
    "\n",
    "numero_localizaciones = contar_localizaciones_unicas(response)\n",
    "print(\"Hay\", numero_localizaciones, \"localizaciones únicas.\")"
   ]
  },
  {
   "cell_type": "markdown",
   "metadata": {},
   "source": [
    "#### 15. ¿Cuál es el nombre de la primera localización?"
   ]
  },
  {
   "cell_type": "code",
   "execution_count": 38,
   "metadata": {},
   "outputs": [
    {
     "name": "stdout",
     "output_type": "stream",
     "text": [
      "La primera localización es: París\n"
     ]
    }
   ],
   "source": [
    "def obtener_primera_localizacion(datos):\n",
    "    \"\"\"Obtiene el nombre de la primera localización de una carrera.\n",
    "\n",
    "    Args:\n",
    "        datos: Un diccionario que contiene los datos de la carrera, incluyendo una lista de localizaciones.\n",
    "\n",
    "    Returns:\n",
    "        El nombre de la primera localización.\n",
    "    \"\"\"\n",
    "\n",
    "    primera_etapa = datos['localizaciones'][0]\n",
    "    return primera_etapa['nombre']\n",
    "\n",
    "primera_loc = obtener_primera_localizacion(response)\n",
    "print(\"La primera localización es:\", primera_loc)"
   ]
  },
  {
   "cell_type": "markdown",
   "metadata": {},
   "source": [
    "#### 16. ¿Cuál es la fecha de la segunda localización?"
   ]
  },
  {
   "cell_type": "code",
   "execution_count": 39,
   "metadata": {},
   "outputs": [
    {
     "name": "stdout",
     "output_type": "stream",
     "text": [
      "La fecha de la segunda localización es: 27/06/2022\n"
     ]
    }
   ],
   "source": [
    "def obtener_fecha_segunda_localizacion(datos):\n",
    "    \"\"\"Obtiene la fecha de la segunda localización de una carrera.\n",
    "\n",
    "    Args:\n",
    "        datos: Un diccionario que contiene los datos de la carrera, incluyendo una lista de localizaciones.\n",
    "\n",
    "    Returns:\n",
    "        La fecha de la segunda localización.\n",
    "    \"\"\"\n",
    "\n",
    "    segunda_etapa = datos['localizaciones'][1]\n",
    "    return segunda_etapa['fecha']\n",
    "\n",
    "fecha_segunda_loc = obtener_fecha_segunda_localizacion(response)\n",
    "print(\"La fecha de la segunda localización es:\", fecha_segunda_loc)"
   ]
  },
  {
   "cell_type": "markdown",
   "metadata": {},
   "source": [
    "#### 17. ¿Cuál es el tipo de la tercera localización?"
   ]
  },
  {
   "cell_type": "code",
   "execution_count": 40,
   "metadata": {},
   "outputs": [
    {
     "name": "stdout",
     "output_type": "stream",
     "text": [
      "El tipo de la tercera localización es: Etapa\n"
     ]
    }
   ],
   "source": [
    "def obtener_tipo_tercera_localizacion(datos):\n",
    "    \"\"\"Obtiene el tipo de la tercera localización de una carrera.\n",
    "\n",
    "    Args:\n",
    "        datos: Un diccionario que contiene los datos de la carrera, incluyendo una lista de localizaciones.\n",
    "\n",
    "    Returns:\n",
    "        El tipo de la tercera localización.\n",
    "    \"\"\"\n",
    "\n",
    "    tercera_etapa = datos['localizaciones'][2]\n",
    "    return tercera_etapa['tipo']\n",
    "\n",
    "tipo_tercera_loc = obtener_tipo_tercera_localizacion(response)\n",
    "print(\"El tipo de la tercera localización es:\", tipo_tercera_loc)"
   ]
  },
  {
   "cell_type": "markdown",
   "metadata": {},
   "source": [
    "#### 18. ¿Cuál es la distancia de la cuarta localización?"
   ]
  },
  {
   "cell_type": "code",
   "execution_count": 41,
   "metadata": {},
   "outputs": [
    {
     "name": "stdout",
     "output_type": "stream",
     "text": [
      "La distancia de la cuarta localización es: 220.0 kilómetros.\n"
     ]
    }
   ],
   "source": [
    "def obtener_distancia_cuarta_localizacion(datos):\n",
    "    \"\"\"Obtiene la distancia de la cuarta localización.\n",
    "\n",
    "    Args:\n",
    "        datos: Un diccionario que contiene los datos de la carrera.\n",
    "\n",
    "    Returns:\n",
    "        La distancia de la cuarta localización en kilómetros.\n",
    "    \"\"\"\n",
    "\n",
    "    # Acceder a la cuarta localización (índice 3 ya que los índices comienzan en 0)\n",
    "    cuarta_localizacion = datos['localizaciones'][3]\n",
    "\n",
    "    # Extraer la distancia\n",
    "    distancia = cuarta_localizacion['distancia']\n",
    "\n",
    "    # Remover la unidad \"km\" y convertir a un número\n",
    "    distancia_km = float(distancia.replace(' km', ''))\n",
    "\n",
    "    return distancia_km\n",
    "\n",
    "# Llamando a la función con los datos proporcionados\n",
    "distancia = obtener_distancia_cuarta_localizacion(response)\n",
    "print(\"La distancia de la cuarta localización es:\", distancia, \"kilómetros.\")"
   ]
  },
  {
   "cell_type": "markdown",
   "metadata": {},
   "source": [
    "#### 19. ¿Cuál es la localización con mayor distancia?"
   ]
  },
  {
   "cell_type": "code",
   "execution_count": 42,
   "metadata": {},
   "outputs": [
    {
     "name": "stdout",
     "output_type": "stream",
     "text": [
      "La etapa más larga es: Toulouse\n",
      "Con una distancia de: 450 km\n"
     ]
    }
   ],
   "source": [
    "def obtener_localizacion_mayor_distancia(datos):\n",
    "    \"\"\"Obtiene la localización con la mayor distancia.\n",
    "\n",
    "    Args:\n",
    "        datos: Un diccionario que contiene los datos de la carrera.\n",
    "\n",
    "    Returns:\n",
    "        Un diccionario que representa la localización con mayor distancia.\n",
    "    \"\"\"\n",
    "\n",
    "    max_distancia = 0\n",
    "    localizacion_mas_larga = None\n",
    "\n",
    "    for etapa in datos['localizaciones']:\n",
    "        distancia_actual = float(etapa['distancia'].replace(' km', ''))\n",
    "        if distancia_actual > max_distancia:\n",
    "            max_distancia = distancia_actual\n",
    "            localizacion_mas_larga = etapa\n",
    "\n",
    "    return localizacion_mas_larga\n",
    "\n",
    "# Llamando a la función con los datos proporcionados\n",
    "etapa_mas_larga = obtener_localizacion_mayor_distancia(response)\n",
    "print(\"La etapa más larga es:\", etapa_mas_larga['nombre'])\n",
    "print(\"Con una distancia de:\", etapa_mas_larga['distancia'])"
   ]
  },
  {
   "cell_type": "markdown",
   "metadata": {},
   "source": [
    "#### 20. ¿Cuál es la altitud de la quinta localización?"
   ]
  },
  {
   "cell_type": "code",
   "execution_count": 43,
   "metadata": {},
   "outputs": [
    {
     "name": "stdout",
     "output_type": "stream",
     "text": [
      "La altitud de la quinta localización es: 250.0 metros.\n"
     ]
    }
   ],
   "source": [
    "def obtener_altitud_quinta_localizacion(datos):\n",
    "    \"\"\"Obtiene la altitud de la quinta localización.\n",
    "\n",
    "    Args:\n",
    "        datos: Un diccionario que contiene los datos de la carrera.\n",
    "\n",
    "    Returns:\n",
    "        La altitud de la quinta localización en metros.\n",
    "    \"\"\"\n",
    "\n",
    "    # Acceder a la quinta localización (índice 4 ya que los índices comienzan en 0)\n",
    "    quinta_localizacion = datos['localizaciones'][4]\n",
    "\n",
    "    # Extraer la altitud\n",
    "    altitud = quinta_localizacion['altitud']\n",
    "\n",
    "    # Remover la unidad \"m\" y convertir a un número\n",
    "    altitud_metros = float(altitud.replace(' m', ''))\n",
    "\n",
    "    return altitud_metros\n",
    "\n",
    "# Llamando a la función con los datos proporcionados\n",
    "altitud = obtener_altitud_quinta_localizacion(response)\n",
    "print(\"La altitud de la quinta localización es:\", altitud, \"metros.\")"
   ]
  },
  {
   "cell_type": "markdown",
   "metadata": {},
   "source": [
    "#### 21. ¿Cuál es el nombre de la última localización?"
   ]
  },
  {
   "cell_type": "code",
   "execution_count": 44,
   "metadata": {},
   "outputs": [
    {
     "name": "stdout",
     "output_type": "stream",
     "text": [
      "La última localización es: Toulouse\n"
     ]
    }
   ],
   "source": [
    "def obtener_nombre_ultima_localizacion(datos):\n",
    "    \"\"\"Obtiene el nombre de la última localización.\n",
    "\n",
    "    Args:\n",
    "        datos: Un diccionario que contiene los datos de la carrera.\n",
    "\n",
    "    Returns:\n",
    "        El nombre de la última localización.\n",
    "    \"\"\"\n",
    "\n",
    "    # Acceder a la última localización\n",
    "    ultima_localizacion = datos['localizaciones'][-1]\n",
    "\n",
    "    # Extraer el nombre\n",
    "    nombre_ultima_localizacion = ultima_localizacion['nombre']\n",
    "\n",
    "    return nombre_ultima_localizacion\n",
    "\n",
    "# Llamando a la función con los datos proporcionados\n",
    "ultimo_destino = obtener_nombre_ultima_localizacion(response)\n",
    "print(\"La última localización es:\", ultimo_destino)"
   ]
  },
  {
   "cell_type": "markdown",
   "metadata": {},
   "source": [
    "#### 22. ¿Cuál es la fecha de la penúltima localización?"
   ]
  },
  {
   "cell_type": "code",
   "execution_count": 45,
   "metadata": {},
   "outputs": [
    {
     "name": "stdout",
     "output_type": "stream",
     "text": [
      "La fecha de la penúltima localización es: 04/07/2022\n"
     ]
    }
   ],
   "source": [
    "def obtener_fecha_penultima_localizacion(datos):\n",
    "    \"\"\"Obtiene la fecha de la penúltima localización.\n",
    "\n",
    "    Args:\n",
    "        datos: Un diccionario que contiene los datos de la carrera.\n",
    "\n",
    "    Returns:\n",
    "        La fecha de la penúltima localización.\n",
    "    \"\"\"\n",
    "\n",
    "    # Acceder a la penúltima localización (índice -2 ya que los índices comienzan en 0)\n",
    "    penultima_localizacion = datos['localizaciones'][-2]\n",
    "\n",
    "    # Extraer la fecha\n",
    "    fecha_penultima_localizacion = penultima_localizacion['fecha']\n",
    "\n",
    "    return fecha_penultima_localizacion\n",
    "\n",
    "# Llamando a la función con los datos proporcionados\n",
    "fecha_penultima = obtener_fecha_penultima_localizacion(response)\n",
    "print(\"La fecha de la penúltima localización es:\", fecha_penultima)"
   ]
  },
  {
   "cell_type": "markdown",
   "metadata": {},
   "source": [
    "#### 23. ¿Cuál es el tipo de la antepenúltima localización?"
   ]
  },
  {
   "cell_type": "code",
   "execution_count": 46,
   "metadata": {},
   "outputs": [
    {
     "name": "stdout",
     "output_type": "stream",
     "text": [
      "El tipo de la antepenúltima localización es: Etapa\n"
     ]
    }
   ],
   "source": [
    "def obtener_tipo_antepenultima_localizacion(datos):\n",
    "    \"\"\"Obtiene el tipo de la antepenúltima localización.\n",
    "\n",
    "    Args:\n",
    "        datos: Un diccionario que contiene los datos de la carrera.\n",
    "\n",
    "    Returns:\n",
    "        El tipo de la antepenúltima localización.\n",
    "    \"\"\"\n",
    "\n",
    "    # Acceder a la antepenúltima localización (índice -3 ya que los índices comienzan en 0)\n",
    "    antepenultima_localizacion = datos['localizaciones'][-3]\n",
    "\n",
    "    # Extraer el tipo\n",
    "    tipo_antepenultima_localizacion = antepenultima_localizacion['tipo']\n",
    "\n",
    "    return tipo_antepenultima_localizacion\n",
    "\n",
    "# Llamando a la función con los datos proporcionados\n",
    "tipo_antepenultima = obtener_tipo_antepenultima_localizacion(response)\n",
    "print(\"El tipo de la antepenúltima localización es:\", tipo_antepenultima)"
   ]
  },
  {
   "cell_type": "markdown",
   "metadata": {},
   "source": [
    "#### 24. ¿Cuál es la distancia de la cuarta localización?\n"
   ]
  },
  {
   "cell_type": "code",
   "execution_count": 48,
   "metadata": {},
   "outputs": [
    {
     "name": "stdout",
     "output_type": "stream",
     "text": [
      "La distancia de la cuarta etapa es: 220.0 kilómetros.\n"
     ]
    }
   ],
   "source": [
    "def obtener_distancia_cuarta_etapa(datos_carrera):\n",
    "    \"\"\"Obtiene la distancia de la cuarta etapa de una carrera ciclista.\n",
    "\n",
    "    Args:\n",
    "        datos_carrera: Un diccionario que contiene los datos de la carrera.\n",
    "\n",
    "    Returns:\n",
    "        La distancia de la cuarta etapa en kilómetros.\n",
    "    \"\"\"\n",
    "\n",
    "    # Acceder a la lista de localizaciones\n",
    "    localizaciones = datos_carrera['localizaciones']\n",
    "\n",
    "    # Obtener la cuarta localización (índice 3 ya que los índices comienzan en 0)\n",
    "    cuarta_localizacion = localizaciones[3]\n",
    "\n",
    "    # Extraer la distancia y convertirla a un número flotante\n",
    "    distancia = float(cuarta_localizacion['distancia'].replace(' km', ''))\n",
    "\n",
    "    return distancia\n",
    "\n",
    "# Llamando a la función con los datos proporcionados\n",
    "distancia_cuarta_etapa = obtener_distancia_cuarta_etapa(response)\n",
    "print(\"La distancia de la cuarta etapa es:\", distancia_cuarta_etapa, \"kilómetros.\")"
   ]
  }
 ],
 "metadata": {
  "kernelspec": {
   "display_name": "contenido",
   "language": "python",
   "name": "python3"
  },
  "language_info": {
   "codemirror_mode": {
    "name": "ipython",
    "version": 3
   },
   "file_extension": ".py",
   "mimetype": "text/x-python",
   "name": "python",
   "nbconvert_exporter": "python",
   "pygments_lexer": "ipython3",
   "version": "3.12.4"
  }
 },
 "nbformat": 4,
 "nbformat_minor": 2
}

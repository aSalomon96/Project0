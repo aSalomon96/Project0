{
 "cells": [
  {
   "cell_type": "markdown",
   "metadata": {},
   "source": [
    "<div style=\"text-align: center;\">\n",
    "  <img src=\"https://github.com/Hack-io-Data/Imagenes/blob/main/01-LogosHackio/logo_celeste@4x.png?raw=true\" alt=\"logo hack(io)\" />\n",
    "</div>\n"
   ]
  },
  {
   "cell_type": "markdown",
   "metadata": {},
   "source": [
    "#### 1. Crea una tupla llamada `persona` y asigna a ella los valores 'Juan', 25, 75.5, 1.75."
   ]
  },
  {
   "cell_type": "code",
   "execution_count": 2,
   "metadata": {},
   "outputs": [],
   "source": [
    "# Creamos tupla Juan\n",
    "persona = ('Juan', 25, 75.5, 1.75)"
   ]
  },
  {
   "cell_type": "markdown",
   "metadata": {},
   "source": [
    "#### 2. Crea una tupla llamada `animal` y asigna a ella los valores 'perro', 'gato', 'conejo'."
   ]
  },
  {
   "cell_type": "code",
   "execution_count": 3,
   "metadata": {},
   "outputs": [],
   "source": [
    "# Creamos tupla animal\n",
    "animal = ('perro', 'gato', 'conejo')"
   ]
  },
  {
   "cell_type": "markdown",
   "metadata": {},
   "source": [
    "#### 3. Obten la longitud de cada tupla y asigna el resultado a una variable llamada `longitud_persona` y `longitud_animal`.\n"
   ]
  },
  {
   "cell_type": "code",
   "execution_count": 7,
   "metadata": {},
   "outputs": [
    {
     "name": "stdout",
     "output_type": "stream",
     "text": [
      "4\n",
      "3\n"
     ]
    }
   ],
   "source": [
    "# Creamos variable longitud_ que asigna el resultado de la cantidad de elementos en cada tupla\n",
    "longitud_persona = len(persona)\n",
    "longitud_animal = len(animal)"
   ]
  },
  {
   "cell_type": "markdown",
   "metadata": {},
   "source": [
    "#### 4. Imprime en pantalla el valor de cada variable utilizando la función print()."
   ]
  },
  {
   "cell_type": "code",
   "execution_count": 8,
   "metadata": {},
   "outputs": [
    {
     "name": "stdout",
     "output_type": "stream",
     "text": [
      "('Juan', 25, 75.5, 1.75)\n",
      "('perro', 'gato', 'conejo')\n",
      "4\n",
      "3\n"
     ]
    }
   ],
   "source": [
    "# Imprimimos para chequear cada tupla\n",
    "print(persona)\n",
    "print(animal)\n",
    "print(longitud_persona )\n",
    "print(longitud_animal)\n"
   ]
  },
  {
   "cell_type": "markdown",
   "metadata": {},
   "source": [
    "#### 5. Convierte la tupla `animal` en una lista. Comprueba que es una lista."
   ]
  },
  {
   "cell_type": "code",
   "execution_count": 11,
   "metadata": {},
   "outputs": [
    {
     "name": "stdout",
     "output_type": "stream",
     "text": [
      "['perro', 'gato', 'conejo'] es del tipo <class 'list'>\n"
     ]
    }
   ],
   "source": [
    "animal_lista = list(animal)\n",
    "\n",
    "# mostramos la variable definida y el tipo de dicha variable\n",
    "print(animal_lista, \"es del tipo\", type(animal_lista))"
   ]
  },
  {
   "cell_type": "markdown",
   "metadata": {},
   "source": [
    "#### 6. Genera una tupla anidada nueva compuesta por la tupla `datos` y la lista `animal`. Asigna el resultado a una variable llamada `anidada`."
   ]
  },
  {
   "cell_type": "code",
   "execution_count": 12,
   "metadata": {},
   "outputs": [
    {
     "name": "stdout",
     "output_type": "stream",
     "text": [
      "(('Juan', 25, 75.5, 1.75), ('perro', 'gato', 'conejo'))\n"
     ]
    }
   ],
   "source": [
    "# Creacion de la tupla anidada\n",
    "anidada = (persona, animal)\n",
    "\n",
    "# Imprimimos para chequear\n",
    "print(anidada)"
   ]
  },
  {
   "cell_type": "markdown",
   "metadata": {},
   "source": [
    "#### 7.  Accede al animal 'gato' de la tupla `anidada` e imprímelo en pantalla."
   ]
  },
  {
   "cell_type": "code",
   "execution_count": 13,
   "metadata": {},
   "outputs": [
    {
     "name": "stdout",
     "output_type": "stream",
     "text": [
      "gato\n"
     ]
    }
   ],
   "source": [
    "# Acceso al elemento 'gato' en la tupla anidada\n",
    "gato = anidada[1][1]\n",
    "\n",
    "# Imprimir el resultado\n",
    "print(gato)"
   ]
  },
  {
   "cell_type": "markdown",
   "metadata": {},
   "source": [
    "#### 8. Crea una tupla donde su unico valor es \"C\"."
   ]
  },
  {
   "cell_type": "code",
   "execution_count": 4,
   "metadata": {},
   "outputs": [],
   "source": [
    "# Creamos tupla C\n",
    "tupla1 = (\"C\",)\n"
   ]
  },
  {
   "cell_type": "markdown",
   "metadata": {},
   "source": [
    "#### 9. Identifica el tipo de dato de la tupla."
   ]
  },
  {
   "cell_type": "code",
   "execution_count": 22,
   "metadata": {},
   "outputs": [
    {
     "name": "stdout",
     "output_type": "stream",
     "text": [
      "('C',) es del tipo <class 'tuple'>\n"
     ]
    }
   ],
   "source": [
    "# Identificar dato de tupla\n",
    "print(tupla1, \"es del tipo\", type(tupla1))"
   ]
  },
  {
   "cell_type": "markdown",
   "metadata": {},
   "source": [
    "#### 10. Crea una tupla con los siguientes valores: 'o','s','i','n','c','h','i','s'"
   ]
  },
  {
   "cell_type": "code",
   "execution_count": 2,
   "metadata": {},
   "outputs": [],
   "source": [
    "# Creamos tupla de valores \n",
    "tupla2 = ('o','s','i','n','c','h','i','s')"
   ]
  },
  {
   "cell_type": "markdown",
   "metadata": {},
   "source": [
    "#### 11. Crea una tupla que sea la unión de las dos tuplas anteriores y asigna el resultado a una variable llamada `tupla3`.\n"
   ]
  },
  {
   "cell_type": "code",
   "execution_count": 5,
   "metadata": {},
   "outputs": [],
   "source": [
    "# Tupla que sea la unión de las dos tuplas anteriores \n",
    "tupla3 = tupla1 + tupla2"
   ]
  },
  {
   "cell_type": "markdown",
   "metadata": {},
   "source": [
    "#### 12. ¿Cuál es la longitud de las tuplas `tupla1`,`tupla2` y `tupla3`?"
   ]
  },
  {
   "cell_type": "code",
   "execution_count": 13,
   "metadata": {},
   "outputs": [
    {
     "name": "stdout",
     "output_type": "stream",
     "text": [
      "1\n",
      "8\n",
      "9\n"
     ]
    }
   ],
   "source": [
    "# Calculamos las longitudes de cada tupla con len()\n",
    "len_tupla1 = len(tupla1)\n",
    "len_tupla2 = len(tupla2)\n",
    "len_tupla3 = len(tupla3)\n",
    "\n",
    "# Imprimimos para chequear\n",
    "print(len_tupla1)\n",
    "print(len_tupla2)\n",
    "print(len_tupla3)"
   ]
  },
  {
   "cell_type": "markdown",
   "metadata": {},
   "source": [
    "#### 13. Comprueba que la longitud de la tupla `tupla3` es igual a la suma de las longitudes de las tuplas `tupla1` y `tupla2`.\n"
   ]
  },
  {
   "cell_type": "code",
   "execution_count": 10,
   "metadata": {},
   "outputs": [
    {
     "name": "stdout",
     "output_type": "stream",
     "text": [
      "True\n"
     ]
    }
   ],
   "source": [
    "# Creamos la variable de suma para las longitudes de la tupla 1 y 2\n",
    "suma_longitudes = len_tupla1 + len_tupla2\n",
    "\n",
    "# Comprobamos que la longitud de cada tupla sea igual a la longitud de la tupla 3\n",
    "comprobacion = len_tupla3 == suma_longitudes\n",
    "\n",
    "# Imprimimos para chequear > si True > son iguales\n",
    "print(comprobacion)"
   ]
  },
  {
   "cell_type": "markdown",
   "metadata": {},
   "source": [
    "#### 14. Cual es el indice del valor 'h' en la tupla `tupla2`? y en `tupla3`?"
   ]
  },
  {
   "cell_type": "code",
   "execution_count": 14,
   "metadata": {},
   "outputs": [
    {
     "name": "stdout",
     "output_type": "stream",
     "text": [
      "5\n",
      "6\n"
     ]
    }
   ],
   "source": [
    "# Encontrar el índice del valor 'h' en tupla2 con funcion index()\n",
    "indice_h_tupla2 = tupla2.index('h')\n",
    "\n",
    "# Encontrar el índice del valor 'h' en tupla3 con funcion index()\n",
    "indice_h_tupla3 = tupla3.index('h')\n",
    "\n",
    "# Imprimimos para chequear \n",
    "print(indice_h_tupla2)\n",
    "print(indice_h_tupla3)"
   ]
  }
 ],
 "metadata": {
  "kernelspec": {
   "display_name": "hackio",
   "language": "python",
   "name": "python3"
  },
  "language_info": {
   "codemirror_mode": {
    "name": "ipython",
    "version": 3
   },
   "file_extension": ".py",
   "mimetype": "text/x-python",
   "name": "python",
   "nbconvert_exporter": "python",
   "pygments_lexer": "ipython3",
   "version": "3.12.4"
  }
 },
 "nbformat": 4,
 "nbformat_minor": 2
}

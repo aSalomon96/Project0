{
 "cells": [
  {
   "cell_type": "markdown",
   "metadata": {},
   "source": [
    "<div style=\"text-align: center;\">\n",
    "  <img src=\"https://github.com/Hack-io-Data/Imagenes/blob/main/01-LogosHackio/logo_celeste@4x.png?raw=true\" alt=\"esquema\" />\n",
    "</div>\n"
   ]
  },
  {
   "cell_type": "markdown",
   "metadata": {},
   "source": [
    "En este ejercicio, se te pedirá que escribas un programa en Python que utilice condicionales para determinar el monto final de una compra en una tienda en línea, después de aplicar un descuento. El programa debe hacer lo siguiente:\n",
    "\n",
    "1. Solicita al usuario que ingrese el precio original de un artículo.\n",
    "\n",
    "2. Pregunta al usuario si tiene un cupón de descuento (respuesta sí o no).\n",
    "\n",
    "3. Si el usuario responde que sí, solicita que ingrese el valor del cupón de descuento.\n",
    "\n",
    "4. Aplica el descuento al precio original del artículo, siempre y cuando el valor del cupón sea válido (es decir, mayor a cero). Por ejemplo, descuento de 15€. \n",
    "\n",
    "5. Muestra el precio final de la compra, teniendo en cuenta el descuento aplicado o sin él. \n",
    "\n",
    "6. Recuerda utilizar estructuras de control de flujo como if, elif y else para llevar a cabo estas acciones en tu programa de Python."
   ]
  },
  {
   "cell_type": "code",
   "execution_count": 3,
   "metadata": {},
   "outputs": [
    {
     "name": "stdout",
     "output_type": "stream",
     "text": [
      "El precio final de la compra es: 90.00€\n"
     ]
    }
   ],
   "source": [
    "# Solicitar el precio original del artículo\n",
    "precio_original = float(input(\"Ingresa el precio original del artículo: \"))\n",
    "\n",
    "# Preguntar si el usuario tiene un cupón de descuento\n",
    "tiene_cupon = input(\"¿Tienes un cupón de descuento? (si/no): \").strip().lower()\n",
    "\n",
    "# Inicializar el descuento en cero\n",
    "descuento = 0\n",
    "\n",
    "# Si el usuario tiene un cupón\n",
    "if tiene_cupon == \"si\":\n",
    "    # Solicitar el valor del cupón\n",
    "    descuento = float(input(\"Ingresa el valor del cupón de descuento: \"))\n",
    "    \n",
    "    # Verificar que el valor del cupón sea válido (mayor a cero)\n",
    "    if descuento > 0:\n",
    "        # Calcular el precio final con el descuento\n",
    "        precio_final = precio_original - descuento\n",
    "    else:\n",
    "        print(\"El valor del cupón debe ser mayor que cero.\")\n",
    "        precio_final = precio_original\n",
    "else:\n",
    "    # Si no tiene cupón, el precio final es igual al precio original\n",
    "    precio_final = precio_original\n",
    "\n",
    "# Asegurarse de que el precio final no sea negativo\n",
    "if precio_final < 0:\n",
    "    precio_final = 0\n",
    "\n",
    "# Mostrar el precio final de la compra\n",
    "print(f\"El precio final de la compra es: {precio_final:.2f}€\")"
   ]
  },
  {
   "cell_type": "markdown",
   "metadata": {},
   "source": [
    "Modifica el programa anterior para que el usuario ingrese un porcentaje de descuento en lugar de un valor fijo (por ejemplo, 30%). Aplica el descuento en base al porcentaje ingresado."
   ]
  },
  {
   "cell_type": "code",
   "execution_count": 5,
   "metadata": {},
   "outputs": [
    {
     "name": "stdout",
     "output_type": "stream",
     "text": [
      "El precio final de la compra es: 700.00€\n"
     ]
    }
   ],
   "source": [
    "# Solicitar el precio original del artículo\n",
    "precio_original = float(input(\"Ingresa el precio original del artículo: \"))\n",
    "\n",
    "# Preguntar si el usuario tiene un cupón de descuento\n",
    "tiene_cupon = input(\"¿Tienes un cupón de descuento? (si/no): \").strip().lower()\n",
    "\n",
    "# Inicializar el descuento en cero\n",
    "descuento_porcentaje = 0\n",
    "\n",
    "# Si el usuario tiene un cupón\n",
    "if tiene_cupon == \"si\":\n",
    "    # Solicitar el porcentaje del cupón\n",
    "    descuento_porcentaje = float(input(\"Ingresa el porcentaje del cupón de descuento (por ejemplo, 30 para 30%): \"))\n",
    "    \n",
    "    # Verificar que el porcentaje del cupón sea válido (entre 0 y 100)\n",
    "    if 0 < descuento_porcentaje <= 100:\n",
    "        # Calcular el monto del descuento en base al porcentaje\n",
    "        descuento = (descuento_porcentaje / 100) * precio_original\n",
    "        # Calcular el precio final con el descuento\n",
    "        precio_final = precio_original - descuento\n",
    "    else:\n",
    "        print(\"El porcentaje del cupón debe estar entre 0 y 100.\")\n",
    "        precio_final = precio_original\n",
    "else:\n",
    "    # Si no tiene cupón, el precio final es igual al precio original\n",
    "    precio_final = precio_original\n",
    "\n",
    "# Mostrar el precio final de la compra\n",
    "print(f\"El precio final de la compra es: {precio_final:.2f}€\")\n"
   ]
  },
  {
   "cell_type": "markdown",
   "metadata": {},
   "source": [
    "Modifica el programa anterior agregando un límite al descuento, donde el descuento mínimo sea del 5% y el máximo del 50%. Si el usuario ingresa un porcentaje fuera de este rango, notifíquele y aplique el descuento mínimo o máximo según sea el caso."
   ]
  },
  {
   "cell_type": "code",
   "execution_count": 6,
   "metadata": {},
   "outputs": [
    {
     "name": "stdout",
     "output_type": "stream",
     "text": [
      "El precio final de la compra es: 90.00€\n"
     ]
    }
   ],
   "source": [
    "# Solicitar el precio original del artículo\n",
    "precio_original = float(input(\"Ingresa el precio original del artículo: \"))\n",
    "\n",
    "# Preguntar si el usuario tiene un cupón de descuento\n",
    "tiene_cupon = input(\"¿Tienes un cupón de descuento? (si/no): \").strip().lower()\n",
    "\n",
    "# Definir los límites del descuento\n",
    "DESCUENTO_MINIMO = 5\n",
    "DESCUENTO_MAXIMO = 50\n",
    "\n",
    "# Inicializar el descuento en cero\n",
    "descuento_porcentaje = 0\n",
    "\n",
    "# Si el usuario tiene un cupón\n",
    "if tiene_cupon == \"si\":\n",
    "    # Solicitar el porcentaje del cupón\n",
    "    descuento_porcentaje = float(input(\"Ingresa el porcentaje del cupón de descuento (por ejemplo, 30 para 30%): \"))\n",
    "    \n",
    "    # Ajustar el porcentaje del cupón según los límites\n",
    "    if descuento_porcentaje < DESCUENTO_MINIMO:\n",
    "        print(f\"El porcentaje ingresado es menor que el descuento mínimo permitido. Se aplicará un descuento del {DESCUENTO_MINIMO}%.\")\n",
    "        descuento_porcentaje = DESCUENTO_MINIMO\n",
    "    elif descuento_porcentaje > DESCUENTO_MAXIMO:\n",
    "        print(f\"El porcentaje ingresado es mayor que el descuento máximo permitido. Se aplicará un descuento del {DESCUENTO_MAXIMO}%.\")\n",
    "        descuento_porcentaje = DESCUENTO_MAXIMO\n",
    "    \n",
    "    # Calcular el monto del descuento en base al porcentaje ajustado\n",
    "    descuento = (descuento_porcentaje / 100) * precio_original\n",
    "    # Calcular el precio final con el descuento\n",
    "    precio_final = precio_original - descuento\n",
    "else:\n",
    "    # Si no tiene cupón, el precio final es igual al precio original\n",
    "    precio_final = precio_original\n",
    "\n",
    "# Mostrar el precio final de la compra\n",
    "print(f\"El precio final de la compra es: {precio_final:.2f}€\")\n"
   ]
  },
  {
   "cell_type": "markdown",
   "metadata": {},
   "source": [
    "Crea un programa nuevo que permita al usuario ingresar varios artículos, cada uno con su precio original y cupón de descuento. Aplica los descuentos correspondientes a cada producto y muestra el monto total final de la compra."
   ]
  },
  {
   "cell_type": "code",
   "execution_count": 9,
   "metadata": {},
   "outputs": [
    {
     "name": "stdout",
     "output_type": "stream",
     "text": [
      "El precio final del artículo es: 9.00€\n",
      "El precio final del artículo es: 18.00€\n",
      "El monto total final de la compra es: 27.00€\n"
     ]
    }
   ],
   "source": [
    "# Definir los límites del descuento\n",
    "DESCUENTO_MINIMO = 5\n",
    "DESCUENTO_MAXIMO = 50\n",
    "\n",
    "def calcular_precio_final(precio_original, descuento_porcentaje):\n",
    "    \"\"\"\n",
    "    Calcula el precio final después de aplicar el descuento.\n",
    "    \"\"\"\n",
    "    # Ajustar el porcentaje del cupón según los límites\n",
    "    if descuento_porcentaje < DESCUENTO_MINIMO:\n",
    "        descuento_porcentaje = DESCUENTO_MINIMO\n",
    "    elif descuento_porcentaje > DESCUENTO_MAXIMO:\n",
    "        descuento_porcentaje = DESCUENTO_MAXIMO\n",
    "    \n",
    "    # Calcular el monto del descuento\n",
    "    descuento = (descuento_porcentaje / 100) * precio_original\n",
    "    # Calcular el precio final con el descuento\n",
    "    precio_final = precio_original - descuento\n",
    "    return precio_final\n",
    "\n",
    "def main():\n",
    "    total_compra = 0\n",
    "    continuar = True\n",
    "\n",
    "    while continuar:\n",
    "        # Solicitar el precio original del artículo\n",
    "        precio_original = float(input(\"Ingresa el precio original del artículo: \"))\n",
    "        \n",
    "        # Preguntar si el usuario tiene un cupón de descuento\n",
    "        tiene_cupon = input(\"¿Tienes un cupón de descuento? (si/no): \").strip().lower()\n",
    "        \n",
    "        if tiene_cupon == \"si\":\n",
    "            # Solicitar el porcentaje del cupón\n",
    "            descuento_porcentaje = float(input(\"Ingresa el porcentaje del cupón de descuento (por ejemplo, 30 para 30%): \"))\n",
    "        else:\n",
    "            descuento_porcentaje = 0\n",
    "        \n",
    "        # Calcular el precio final del artículo\n",
    "        precio_final = calcular_precio_final(precio_original, descuento_porcentaje)\n",
    "        \n",
    "        # Mostrar el precio final del artículo\n",
    "        print(f\"El precio final del artículo es: {precio_final:.2f}€\")\n",
    "        \n",
    "        # Agregar el precio final al total de la compra\n",
    "        total_compra += precio_final\n",
    "        \n",
    "        # Preguntar si desea agregar otro artículo\n",
    "        respuesta = input(\"¿Deseas agregar otro artículo? (si/no): \").strip().lower()\n",
    "        if respuesta != \"si\":\n",
    "            continuar = False\n",
    "\n",
    "    # Mostrar el monto total final de la compra\n",
    "    print(f\"El monto total final de la compra es: {total_compra:.2f}€\")\n",
    "\n",
    "# Ejecutar el programa principal\n",
    "main()\n",
    "\n"
   ]
  },
  {
   "cell_type": "markdown",
   "metadata": {},
   "source": [
    "Crea un nuevo programa que permita aplicar descuentos por categorías. En este caso, nuestra tienda aplicará descuentos en función de la categoría (por ejemplo, electrónica, ropa, juguetes). Pregunta al usuario a que categoría pertenece su producto y aplica el descuento correspondiente a la categoría. Debes solicitar al usuario que ingrese la categoría del articulo y el precio para aplicarle el descuento. "
   ]
  },
  {
   "cell_type": "code",
   "execution_count": 1,
   "metadata": {},
   "outputs": [
    {
     "name": "stdout",
     "output_type": "stream",
     "text": [
      "El precio final del artículo es: 85.00€ (Descuento aplicado: 15%)\n",
      "El monto total final de la compra es: 85.00€\n"
     ]
    }
   ],
   "source": [
    "# Definir los descuentos por categoría\n",
    "DESCUENTOS_POR_CATEGORIA = {\n",
    "    \"electronica\": 10,\n",
    "    \"ropa\": 20,\n",
    "    \"juguetes\": 15,\n",
    "    \"otros\": 5\n",
    "}\n",
    "\n",
    "def calcular_precio_final(precio_original, descuento_porcentaje):\n",
    "    \"\"\"\n",
    "    Calcula el precio final después de aplicar el descuento.\n",
    "    \"\"\"\n",
    "    # Calcular el monto del descuento\n",
    "    descuento = (descuento_porcentaje / 100) * precio_original\n",
    "    # Calcular el precio final con el descuento\n",
    "    precio_final = precio_original - descuento\n",
    "    return precio_final\n",
    "\n",
    "def main():\n",
    "    total_compra = 0\n",
    "    continuar = True\n",
    "\n",
    "    while continuar:\n",
    "        # Solicitar la categoría del artículo\n",
    "        categoria = input(\"Ingresa la categoría del artículo (electronica, ropa, juguetes, otros): \").strip().lower()\n",
    "\n",
    "        # Verificar si la categoría existe en el diccionario\n",
    "        if categoria in DESCUENTOS_POR_CATEGORIA:\n",
    "            descuento_porcentaje = DESCUENTOS_POR_CATEGORIA[categoria]\n",
    "        else:\n",
    "            print(\"Categoría no válida. Se aplicará el descuento para 'otros'.\")\n",
    "            descuento_porcentaje = DESCUENTOS_POR_CATEGORIA[\"otros\"]\n",
    "        \n",
    "        # Solicitar el precio original del artículo\n",
    "        precio_original = float(input(\"Ingresa el precio original del artículo: \"))\n",
    "\n",
    "        # Calcular el precio final del artículo\n",
    "        precio_final = calcular_precio_final(precio_original, descuento_porcentaje)\n",
    "\n",
    "        # Mostrar el precio final del artículo\n",
    "        print(f\"El precio final del artículo es: {precio_final:.2f}€ (Descuento aplicado: {descuento_porcentaje}%)\")\n",
    "\n",
    "        # Agregar el precio final al total de la compra\n",
    "        total_compra += precio_final\n",
    "\n",
    "        # Preguntar si desea agregar otro artículo\n",
    "        respuesta = input(\"¿Deseas agregar otro artículo? (si/no): \").strip().lower()\n",
    "        if respuesta != \"si\":\n",
    "            continuar = False\n",
    "\n",
    "    # Mostrar el monto total final de la compra\n",
    "    print(f\"El monto total final de la compra es: {total_compra:.2f}€\")\n",
    "\n",
    "# Ejecutar el programa principal\n",
    "main()\n"
   ]
  },
  {
   "cell_type": "markdown",
   "metadata": {},
   "source": [
    "Crea un nuevo programa que aplique descuentos automáticos en función de la fecha actual. Aplica un descuento del 10% en compras realizadas entre lunes y viernes o un descuento del 15% en compras realizadas durante los fines de semana."
   ]
  },
  {
   "cell_type": "code",
   "execution_count": 2,
   "metadata": {},
   "outputs": [
    {
     "name": "stdout",
     "output_type": "stream",
     "text": [
      "El precio final del artículo es: 85.00€ (Descuento aplicado: 15%)\n",
      "El monto total final de la compra es: 85.00€\n"
     ]
    }
   ],
   "source": [
    "import datetime\n",
    "\n",
    "def calcular_precio_final(precio_original, descuento_porcentaje):\n",
    "    \"\"\"\n",
    "    Calcula el precio final después de aplicar el descuento.\n",
    "    \"\"\"\n",
    "    # Calcular el monto del descuento\n",
    "    descuento = (descuento_porcentaje / 100) * precio_original\n",
    "    # Calcular el precio final con el descuento\n",
    "    precio_final = precio_original - descuento\n",
    "    return precio_final\n",
    "\n",
    "def obtener_descuento_por_fecha():\n",
    "    \"\"\"\n",
    "    Devuelve el porcentaje de descuento en función del día actual.\n",
    "    10% entre lunes y viernes, 15% fines de semana.\n",
    "    \"\"\"\n",
    "    # Obtener el día actual (0 es lunes, 6 es domingo)\n",
    "    hoy = datetime.datetime.now().weekday()\n",
    "    \n",
    "    # Aplicar el descuento según el día\n",
    "    if 0 <= hoy <= 4:  # De lunes (0) a viernes (4)\n",
    "        return 10\n",
    "    else:  # Sábado (5) y domingo (6)\n",
    "        return 15\n",
    "\n",
    "def main():\n",
    "    total_compra = 0\n",
    "    continuar = True\n",
    "\n",
    "    # Obtener el descuento correspondiente según la fecha actual\n",
    "    descuento_porcentaje = obtener_descuento_por_fecha()\n",
    "    \n",
    "    while continuar:\n",
    "        # Solicitar el precio original del artículo\n",
    "        precio_original = float(input(\"Ingresa el precio original del artículo: \"))\n",
    "\n",
    "        # Calcular el precio final del artículo\n",
    "        precio_final = calcular_precio_final(precio_original, descuento_porcentaje)\n",
    "\n",
    "        # Mostrar el precio final del artículo\n",
    "        print(f\"El precio final del artículo es: {precio_final:.2f}€ (Descuento aplicado: {descuento_porcentaje}%)\")\n",
    "\n",
    "        # Agregar el precio final al total de la compra\n",
    "        total_compra += precio_final\n",
    "\n",
    "        # Preguntar si desea agregar otro artículo\n",
    "        respuesta = input(\"¿Deseas agregar otro artículo? (si/no): \").strip().lower()\n",
    "        if respuesta != \"si\":\n",
    "            continuar = False\n",
    "\n",
    "    # Mostrar el monto total final de la compra\n",
    "    print(f\"El monto total final de la compra es: {total_compra:.2f}€\")\n",
    "\n",
    "# Ejecutar el programa principal\n",
    "main()\n"
   ]
  },
  {
   "cell_type": "markdown",
   "metadata": {},
   "source": [
    "Crea un programa nuevo que implemente un sistema de membresía donde los usuarios registrados obtengan un descuento adicional del 5%. Solicita al usuario que ingrese su nombre de usuario y contraseña para verificar su membresía y aplique el descuento adicional si corresponde. \n",
    "\n",
    "📝 Nota: Para este ejercicio solo tendremos un usuario registrado. El usuario es `USUARIO` y la contraseña es  `USUARIO123`. \n"
   ]
  },
  {
   "cell_type": "code",
   "execution_count": 3,
   "metadata": {},
   "outputs": [
    {
     "name": "stdout",
     "output_type": "stream",
     "text": [
      "Bienvenido, ¡Eres miembro y obtendrás un descuento adicional del 5%!\n",
      "El precio final del artículo es: 80.75€\n",
      "El precio final del artículo es: 50.87€\n",
      "El precio final del artículo es: 77.52€\n",
      "El monto total final de la compra es: 209.14€\n"
     ]
    }
   ],
   "source": [
    "import datetime\n",
    "\n",
    "# Datos de membresía\n",
    "USUARIO_REGISTRADO = \"USUARIO\"\n",
    "CONTRASENA_REGISTRADA = \"USUARIO123\"\n",
    "DESCUENTO_MEMBRESIA = 5\n",
    "\n",
    "def verificar_membresia(usuario, contrasena):\n",
    "    \"\"\"\n",
    "    Verifica si el usuario y contraseña son correctos.\n",
    "    \"\"\"\n",
    "    return usuario == USUARIO_REGISTRADO and contrasena == CONTRASENA_REGISTRADA\n",
    "\n",
    "def calcular_precio_final(precio_original, descuento_porcentaje):\n",
    "    \"\"\"\n",
    "    Calcula el precio final después de aplicar el descuento.\n",
    "    \"\"\"\n",
    "    # Calcular el monto del descuento\n",
    "    descuento = (descuento_porcentaje / 100) * precio_original\n",
    "    # Calcular el precio final con el descuento\n",
    "    precio_final = precio_original - descuento\n",
    "    return precio_final\n",
    "\n",
    "def obtener_descuento_por_fecha():\n",
    "    \"\"\"\n",
    "    Devuelve el porcentaje de descuento en función del día actual.\n",
    "    10% entre lunes y viernes, 15% fines de semana.\n",
    "    \"\"\"\n",
    "    # Obtener el día actual (0 es lunes, 6 es domingo)\n",
    "    hoy = datetime.datetime.now().weekday()\n",
    "    \n",
    "    # Aplicar el descuento según el día\n",
    "    if 0 <= hoy <= 4:  # De lunes (0) a viernes (4)\n",
    "        return 10\n",
    "    else:  # Sábado (5) y domingo (6)\n",
    "        return 15\n",
    "\n",
    "def main():\n",
    "    total_compra = 0\n",
    "    continuar = True\n",
    "\n",
    "    # Solicitar credenciales para verificar la membresía\n",
    "    usuario = input(\"Ingresa tu nombre de usuario: \").strip()\n",
    "    contrasena = input(\"Ingresa tu contraseña: \").strip()\n",
    "\n",
    "    es_miembro = verificar_membresia(usuario, contrasena)\n",
    "    \n",
    "    if es_miembro:\n",
    "        print(\"Bienvenido, ¡Eres miembro y obtendrás un descuento adicional del 5%!\")\n",
    "    else:\n",
    "        print(\"No eres miembro, pero igual obtendrás los descuentos normales.\")\n",
    "\n",
    "    # Obtener el descuento correspondiente según la fecha actual\n",
    "    descuento_por_fecha = obtener_descuento_por_fecha()\n",
    "    \n",
    "    while continuar:\n",
    "        # Solicitar el precio original del artículo\n",
    "        precio_original = float(input(\"Ingresa el precio original del artículo: \"))\n",
    "\n",
    "        # Calcular el precio final del artículo con el descuento por fecha\n",
    "        precio_final = calcular_precio_final(precio_original, descuento_por_fecha)\n",
    "\n",
    "        # Aplicar el descuento adicional del 5% si el usuario es miembro\n",
    "        if es_miembro:\n",
    "            precio_final = calcular_precio_final(precio_final, DESCUENTO_MEMBRESIA)\n",
    "\n",
    "        # Mostrar el precio final del artículo\n",
    "        print(f\"El precio final del artículo es: {precio_final:.2f}€\")\n",
    "\n",
    "        # Agregar el precio final al total de la compra\n",
    "        total_compra += precio_final\n",
    "\n",
    "        # Preguntar si desea agregar otro artículo\n",
    "        respuesta = input(\"¿Deseas agregar otro artículo? (si/no): \").strip().lower()\n",
    "        if respuesta != \"si\":\n",
    "            continuar = False\n",
    "\n",
    "    # Mostrar el monto total final de la compra\n",
    "    print(f\"El monto total final de la compra es: {total_compra:.2f}€\")\n",
    "\n",
    "# Ejecutar el programa principal\n",
    "main()\n"
   ]
  },
  {
   "cell_type": "markdown",
   "metadata": {},
   "source": [
    "Crea un nuevo programa que ofrezca un descuento del 10% adicional si el usuario compra más de 5 artículos del mismo tipo. Debes verificar la cantidad de productos comprados y aplicar el descuento adicional si corresponde.\n"
   ]
  },
  {
   "cell_type": "code",
   "execution_count": 4,
   "metadata": {},
   "outputs": [
    {
     "name": "stdout",
     "output_type": "stream",
     "text": [
      "Como has comprado 6 artículos del mismo tipo, obtienes un 10% de descuento adicional.\n",
      "El precio final por artículo es: 85.00€ (Descuento aplicado: 15%)\n",
      "El precio total para 6 artículos es: 510.00€\n",
      "Como has comprado 9 artículos del mismo tipo, obtienes un 10% de descuento adicional.\n",
      "El precio final por artículo es: 189.55€ (Descuento aplicado: 15%)\n",
      "El precio total para 9 artículos es: 1705.95€\n",
      "El monto total final de la compra es: 2215.95€\n"
     ]
    }
   ],
   "source": [
    "def calcular_precio_final(precio_original, descuento_porcentaje):\n",
    "    \"\"\"\n",
    "    Calcula el precio final después de aplicar el descuento.\n",
    "    \"\"\"\n",
    "    # Calcular el monto del descuento\n",
    "    descuento = (descuento_porcentaje / 100) * precio_original\n",
    "    # Calcular el precio final con el descuento\n",
    "    precio_final = precio_original - descuento\n",
    "    return precio_final\n",
    "\n",
    "def main():\n",
    "    total_compra = 0\n",
    "    continuar = True\n",
    "    DESCUENTO_CANTIDAD = 10  # Descuento adicional si compra más de 5 artículos\n",
    "    DESCUENTO_NORMAL = 5     # Descuento normal para todos los productos\n",
    "\n",
    "    while continuar:\n",
    "        # Solicitar el precio original del artículo\n",
    "        precio_original = float(input(\"Ingresa el precio original del artículo: \"))\n",
    "        \n",
    "        # Solicitar la cantidad de artículos comprados\n",
    "        cantidad = int(input(\"Ingresa la cantidad de artículos que estás comprando: \"))\n",
    "\n",
    "        # Determinar si se aplica el descuento adicional por cantidad\n",
    "        if cantidad > 5:\n",
    "            print(f\"Como has comprado {cantidad} artículos del mismo tipo, obtienes un 10% de descuento adicional.\")\n",
    "            descuento_porcentaje = DESCUENTO_CANTIDAD + DESCUENTO_NORMAL\n",
    "        else:\n",
    "            descuento_porcentaje = DESCUENTO_NORMAL\n",
    "\n",
    "        # Calcular el precio final del artículo con el descuento\n",
    "        precio_final = calcular_precio_final(precio_original, descuento_porcentaje)\n",
    "\n",
    "        # Mostrar el precio final por artículo\n",
    "        print(f\"El precio final por artículo es: {precio_final:.2f}€ (Descuento aplicado: {descuento_porcentaje}%)\")\n",
    "\n",
    "        # Calcular el precio total para esta cantidad de artículos\n",
    "        total_precio_articulo = precio_final * cantidad\n",
    "        print(f\"El precio total para {cantidad} artículos es: {total_precio_articulo:.2f}€\")\n",
    "\n",
    "        # Agregar el precio final al total de la compra\n",
    "        total_compra += total_precio_articulo\n",
    "\n",
    "        # Preguntar si desea agregar otro artículo\n",
    "        respuesta = input(\"¿Deseas agregar otro artículo? (si/no): \").strip().lower()\n",
    "        if respuesta != \"si\":\n",
    "            continuar = False\n",
    "\n",
    "    # Mostrar el monto total final de la compra\n",
    "    print(f\"El monto total final de la compra es: {total_compra:.2f}€\")\n",
    "\n",
    "# Ejecutar el programa principal\n",
    "main()\n"
   ]
  },
  {
   "cell_type": "markdown",
   "metadata": {},
   "source": [
    "Crea un nuevo programa que ofrezca descuentos progresivos en función del volumen de compra. Aplica un descuento del 5% para compras entre 100€ y 200€, un descuento del 10% para compras entre 200€ y 500€ y un descuento del 15% para compras superiores a 500€."
   ]
  },
  {
   "cell_type": "code",
   "execution_count": 5,
   "metadata": {},
   "outputs": [
    {
     "name": "stdout",
     "output_type": "stream",
     "text": [
      "Se aplicará un descuento del 15% por un total de compra de 600.00€.\n",
      "El monto total final de la compra es: 510.00€\n"
     ]
    }
   ],
   "source": [
    "def calcular_descuento_por_volumen(total_compra):\n",
    "    \"\"\"\n",
    "    Calcula el porcentaje de descuento en función del volumen de la compra.\n",
    "    \"\"\"\n",
    "    if 100 <= total_compra < 200:\n",
    "        return 5\n",
    "    elif 200 <= total_compra < 500:\n",
    "        return 10\n",
    "    elif total_compra >= 500:\n",
    "        return 15\n",
    "    else:\n",
    "        return 0\n",
    "\n",
    "def calcular_precio_final(precio_original, descuento_porcentaje):\n",
    "    \"\"\"\n",
    "    Calcula el precio final después de aplicar el descuento.\n",
    "    \"\"\"\n",
    "    descuento = (descuento_porcentaje / 100) * precio_original\n",
    "    precio_final = precio_original - descuento\n",
    "    return precio_final\n",
    "\n",
    "def main():\n",
    "    total_compra = 0\n",
    "    continuar = True\n",
    "\n",
    "    while continuar:\n",
    "        # Solicitar el precio del artículo\n",
    "        precio_original = float(input(\"Ingresa el precio del artículo: \"))\n",
    "        \n",
    "        # Sumar el precio del artículo al total de la compra\n",
    "        total_compra += precio_original\n",
    "\n",
    "        # Preguntar si desea agregar otro artículo\n",
    "        respuesta = input(\"¿Deseas agregar otro artículo? (si/no): \").strip().lower()\n",
    "        if respuesta != \"si\":\n",
    "            continuar = False\n",
    "\n",
    "    # Calcular el descuento basado en el volumen total de la compra\n",
    "    descuento_porcentaje = calcular_descuento_por_volumen(total_compra)\n",
    "\n",
    "    if descuento_porcentaje > 0:\n",
    "        print(f\"Se aplicará un descuento del {descuento_porcentaje}% por un total de compra de {total_compra:.2f}€.\")\n",
    "        total_final = calcular_precio_final(total_compra, descuento_porcentaje)\n",
    "    else:\n",
    "        total_final = total_compra\n",
    "        print(\"No se aplicará ningún descuento.\")\n",
    "\n",
    "    # Mostrar el monto total final de la compra con el descuento aplicado\n",
    "    print(f\"El monto total final de la compra es: {total_final:.2f}€\")\n",
    "\n",
    "# Ejecutar el programa principal\n",
    "main()\n"
   ]
  },
  {
   "cell_type": "markdown",
   "metadata": {},
   "source": [
    "Crea un nuevo programa  que ofrezca un descuento adicional del 3% si el usuario paga con tarjeta de crédito o débito. Solicita al usuario que ingrese el método de pago y el descuento original, por último aplica el descuento si corresponde."
   ]
  },
  {
   "cell_type": "code",
   "execution_count": 6,
   "metadata": {},
   "outputs": [
    {
     "name": "stdout",
     "output_type": "stream",
     "text": [
      "Se aplicará un 3% adicional por pagar con tarjeta.\n",
      "El monto total final de la compra es: 174.60€\n"
     ]
    }
   ],
   "source": [
    "def calcular_precio_final(precio_original, descuento_porcentaje):\n",
    "    \"\"\"\n",
    "    Calcula el precio final después de aplicar el descuento.\n",
    "    \"\"\"\n",
    "    descuento = (descuento_porcentaje / 100) * precio_original\n",
    "    precio_final = precio_original - descuento\n",
    "    return precio_final\n",
    "\n",
    "def main():\n",
    "    # Solicitar el precio total de la compra\n",
    "    precio_total = float(input(\"Ingresa el precio total de la compra: \"))\n",
    "    \n",
    "    # Solicitar el descuento original que ya tiene la compra\n",
    "    descuento_original = float(input(\"Ingresa el porcentaje de descuento original aplicado (sin %): \"))\n",
    "\n",
    "    # Calcular el precio con el descuento original\n",
    "    precio_con_descuento = calcular_precio_final(precio_total, descuento_original)\n",
    "    \n",
    "    # Solicitar el método de pago\n",
    "    metodo_pago = input(\"¿Vas a pagar con tarjeta de crédito o débito? (si/no): \").strip().lower()\n",
    "\n",
    "    # Verificar si corresponde el descuento adicional del 3%\n",
    "    if metodo_pago == \"si\":\n",
    "        print(\"Se aplicará un 3% adicional por pagar con tarjeta.\")\n",
    "        precio_con_descuento = calcular_precio_final(precio_con_descuento, 3)\n",
    "    else:\n",
    "        print(\"No se aplicará el descuento adicional por pago con tarjeta.\")\n",
    "\n",
    "    # Mostrar el precio final de la compra\n",
    "    print(f\"El monto total final de la compra es: {precio_con_descuento:.2f}€\")\n",
    "\n",
    "# Ejecutar el programa principal\n",
    "main()\n"
   ]
  }
 ],
 "metadata": {
  "kernelspec": {
   "display_name": "hackio",
   "language": "python",
   "name": "python3"
  },
  "language_info": {
   "codemirror_mode": {
    "name": "ipython",
    "version": 3
   },
   "file_extension": ".py",
   "mimetype": "text/x-python",
   "name": "python",
   "nbconvert_exporter": "python",
   "pygments_lexer": "ipython3",
   "version": "3.12.4"
  }
 },
 "nbformat": 4,
 "nbformat_minor": 2
}

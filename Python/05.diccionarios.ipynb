{
 "cells": [
  {
   "cell_type": "markdown",
   "metadata": {},
   "source": [
    "<div style=\"text-align: center;\">\n",
    "  <img src=\"https://github.com/Hack-io-Data/Imagenes/blob/main/01-LogosHackio/logo_celeste@4x.png?raw=true\" alt=\"logo hack(io)\" />\n",
    "</div>"
   ]
  },
  {
   "cell_type": "markdown",
   "metadata": {},
   "source": [
    "#### 1. Acceso a valores. Dado el diccionario:\n",
    "\n",
    "```python\n",
    "alumno = {\n",
    "    \"nombre\": \"Laura\",\n",
    "    \"edad\": 22,\n",
    "    \"carrera\": \"Biología\"\n",
    "}\n",
    "```\n",
    "\n",
    "1.1. Accede y muestra el valor asociado con la clave `\"nombre\"`.\n",
    "\n",
    "1.2. Accede y muestra el valor asociado con la clave `\"carrera\"`.\n"
   ]
  },
  {
   "cell_type": "code",
   "execution_count": 6,
   "metadata": {},
   "outputs": [
    {
     "name": "stdout",
     "output_type": "stream",
     "text": [
      "Este es el valor asociado a nombre:  Laura\n"
     ]
    }
   ],
   "source": [
    "# Declaramos diccionario de alumno\n",
    "alumno = {\n",
    "    \"nombre\": \"Laura\",\n",
    "    \"edad\": 22,\n",
    "    \"carrera\": \"Biología\"\n",
    "}\n",
    "\n",
    "# 1.1. Accede y muestra el valor asociado con la clave `\"nombre\"`.\n",
    "print (\"Este es el valor asociado a nombre: \", alumno.get(\"nombre\"))\n",
    "\n"
   ]
  },
  {
   "cell_type": "code",
   "execution_count": 7,
   "metadata": {},
   "outputs": [
    {
     "name": "stdout",
     "output_type": "stream",
     "text": [
      "Este es el valor asociado a nombre:  Biología\n"
     ]
    }
   ],
   "source": [
    "# 1.2. Accede y muestra el valor asociado con la clave `\"carrera\"`.\n",
    "print (\"Este es el valor asociado a nombre: \", alumno.get(\"carrera\"))"
   ]
  },
  {
   "cell_type": "markdown",
   "metadata": {},
   "source": [
    "#### 2. Actualización de valores. Dado el siguiente diccionario:\n",
    "\n",
    "```python\n",
    "cuenta = {\n",
    "    \"saldo\": 1500,\n",
    "    \"moneda\": \"USD\"\n",
    "}\n",
    "```\n",
    "\n",
    "2.1. Actualiza el valor de la clave `\"saldo\"` a `2000`.\n",
    "\n",
    "2.2. Cambia el valor de `\"moneda\"` a `\"EUR\"`."
   ]
  },
  {
   "cell_type": "code",
   "execution_count": 8,
   "metadata": {},
   "outputs": [],
   "source": [
    "# Declaramos diccionario de cuenta\n",
    "cuenta = {\n",
    "    \"saldo\": 1500,\n",
    "    \"moneda\": \"USD\"\n",
    "}"
   ]
  },
  {
   "cell_type": "code",
   "execution_count": 14,
   "metadata": {},
   "outputs": [
    {
     "name": "stdout",
     "output_type": "stream",
     "text": [
      "Este es nuevo saldo de la cuenta:  2000\n",
      "El tipo de cambio es:  EUR\n"
     ]
    }
   ],
   "source": [
    "# 2.1. Actualiza el valor de la clave `\"saldo\"` a `2000`.\n",
    "cuenta[\"saldo\"]=2000\n",
    "print (\"Este es nuevo saldo de la cuenta: \", cuenta.get(\"saldo\"))\n",
    "\n",
    "# 2.2. Cambia el valor de `\"moneda\"` a `\"EUR\"`.\n",
    "cuenta[\"moneda\"] = \"EUR\"\n",
    "print (\"El tipo de cambio es: \", cuenta.get(\"moneda\"))"
   ]
  },
  {
   "cell_type": "markdown",
   "metadata": {},
   "source": [
    "\n",
    "#### 3. Añadir nuevas claves. Dado el diccionario:\n",
    "\n",
    "```python\n",
    "vehiculo = {\n",
    "    \"marca\": \"Ford\",\n",
    "    \"modelo\": \"Mustang\"\n",
    "}\n",
    "```\n",
    "\n",
    "3.1. Añade una nueva clave `\"año\"` con el valor `2020`.\n",
    "\n",
    "3.2. Añade una nueva clave `\"color\"` con el valor `\"rojo\"`.\n"
   ]
  },
  {
   "cell_type": "code",
   "execution_count": 8,
   "metadata": {},
   "outputs": [],
   "source": [
    "# Declaramos diccionario de vehiculo\n",
    "vehiculo = {\n",
    "    \"marca\": \"Ford\",\n",
    "    \"modelo\": \"Mustang\"\n",
    "}"
   ]
  },
  {
   "cell_type": "code",
   "execution_count": 9,
   "metadata": {},
   "outputs": [
    {
     "name": "stdout",
     "output_type": "stream",
     "text": [
      "El diccionario vehiculo es el siguiente:  {'marca': 'Ford', 'modelo': 'Mustang', 'año': 2020}\n",
      "El diccionario vehiculo es el siguiente:  {'marca': 'Ford', 'modelo': 'Mustang', 'año': 2020, 'color': 'rojo'}\n"
     ]
    }
   ],
   "source": [
    "#3.1. Añade una nueva clave `\"año\"` con el valor `2020`.\n",
    "# Creamos un nuevo diccionario con el elemento año\n",
    "nuevo_elemento = {\"año\": 2020}\n",
    "# Concatenamos diccionarios con funcion update()\n",
    "vehiculo.update(nuevo_elemento)\n",
    "# Imprimimos para chequear que se agrego correctamente\n",
    "print(\"El diccionario vehiculo es el siguiente: \", vehiculo)\n",
    "\n",
    "\n",
    "#3.2. Añade una nueva clave `\"color\"` con el valor `\"rojo\"`.\n",
    "# Creamos un nuevo diccionario con el elemento color\n",
    "nuevo_elemento2 = {\"color\": \"rojo\"}\n",
    "# Concatenamos diccionarios con funcion update()\n",
    "vehiculo.update(nuevo_elemento2)\n",
    "print(\"El diccionario vehiculo es el siguiente: \", vehiculo)"
   ]
  },
  {
   "cell_type": "markdown",
   "metadata": {},
   "source": [
    "#### 4. Eliminar Claves. Dado el diccionario:\n",
    "\n",
    "```python\n",
    "libro = {\n",
    "    \"título\": \"Cien Años de Soledad\",\n",
    "    \"autor\": \"Gabriel García Márquez\",\n",
    "    \"páginas\": 417\n",
    "}\n",
    "```\n",
    "\n",
    "4.1. Elimina la clave `\"páginas\"`.\n",
    "\n",
    "4.2. Elimina la clave `\"título\"`.\n",
    "\n"
   ]
  },
  {
   "cell_type": "code",
   "execution_count": 32,
   "metadata": {},
   "outputs": [],
   "source": [
    "# Declaramos diccionario de libro\n",
    "libro = {\n",
    "    \"título\": \"Cien Años de Soledad\",\n",
    "    \"autor\": \"Gabriel García Márquez\",\n",
    "    \"páginas\": 417\n",
    "}"
   ]
  },
  {
   "cell_type": "code",
   "execution_count": 33,
   "metadata": {},
   "outputs": [
    {
     "name": "stdout",
     "output_type": "stream",
     "text": [
      "Eliminamos la clave pagina:  417\n",
      "Eliminamos la clave título:  Cien Años de Soledad\n",
      "El diccionario libro quedo compuesto por:  {'autor': 'Gabriel García Márquez'}\n"
     ]
    }
   ],
   "source": [
    "#4.1. Elimina la clave `\"páginas\"`.\n",
    "print(\"Eliminamos la clave pagina: \", libro.pop(\"páginas\", None))\n",
    "\n",
    "\n",
    "#4.2. Elimina la clave `\"título\"`.\n",
    "print(\"Eliminamos la clave título: \", libro.pop(\"título\", None))\n",
    "\n",
    "print(\"El diccionario libro quedo compuesto por: \",libro)"
   ]
  },
  {
   "cell_type": "markdown",
   "metadata": {},
   "source": [
    "\n",
    "#### 5. Verificación de Existencia de Claves. Dado el diccionario:\n",
    "\n",
    "```python\n",
    "pelicula = {\n",
    "    \"título\": \"Inception\",\n",
    "    \"director\": \"Christopher Nolan\"\n",
    "}\n",
    "```\n",
    "5.1. Verifica si la clave `\"director\"` existe en el diccionario.\n",
    "\n",
    "5.2. Verifica si la clave `\"año\"` existe en el diccionario.\n"
   ]
  },
  {
   "cell_type": "code",
   "execution_count": 35,
   "metadata": {},
   "outputs": [],
   "source": [
    "# Declaramos diccionario de pelicula\n",
    "\n",
    "pelicula = {\n",
    "    \"título\": \"Inception\",\n",
    "    \"director\": \"Christopher Nolan\"\n",
    "}"
   ]
  },
  {
   "cell_type": "code",
   "execution_count": 38,
   "metadata": {},
   "outputs": [
    {
     "name": "stdout",
     "output_type": "stream",
     "text": [
      "Esta la clave director en mi diccionario?  True\n",
      "Esta la clave año en mi diccionario?  False\n"
     ]
    }
   ],
   "source": [
    "#5.1. Verifica si la clave `\"director\"` existe en el diccionario.\n",
    "print (\"¿Esta la clave director en mi diccionario? \", \"director\" in pelicula)\n",
    "#5.2. Verifica si la clave `\"año\"` existe en el diccionario.\n",
    "print (\"¿Esta la clave año en mi diccionario? \", \"año\" in pelicula)"
   ]
  },
  {
   "cell_type": "markdown",
   "metadata": {},
   "source": [
    "#### 6. Uso del Método `get`. Dado el diccionario:\n",
    "\n",
    "```python\n",
    "ciudad = {\n",
    "    \"nombre\": \"París\",\n",
    "    \"país\": \"Francia\"\n",
    "}\n",
    "```\n",
    "\n",
    "6.1. Usa el método `get` para obtener el valor de la clave `\"nombre\"`.\n",
    "\n",
    "6.2. Usa el método `get` para obtener el valor de la clave `\"población\"` con un valor predeterminado `\"Desconocido\"`.\n"
   ]
  },
  {
   "cell_type": "code",
   "execution_count": 39,
   "metadata": {},
   "outputs": [],
   "source": [
    "# Declaramos diccionario de ciudad\n",
    "\n",
    "ciudad = {\n",
    "    \"nombre\": \"París\",\n",
    "    \"país\": \"Francia\"\n",
    "}"
   ]
  },
  {
   "cell_type": "code",
   "execution_count": 48,
   "metadata": {},
   "outputs": [
    {
     "name": "stdout",
     "output_type": "stream",
     "text": [
      "La ciudad es:  París\n",
      "Y se encuentra en:  Francia\n",
      "La poblacion de paris es de:  desconocido\n"
     ]
    }
   ],
   "source": [
    "#6.1. Usa el método `get` para obtener el valor de la clave `\"nombre\"`.\n",
    "print (\"La ciudad es: \",ciudad.get(\"nombre\"))\n",
    "print (\"Y se encuentra en: \",ciudad.get(\"país\"))\n",
    "\n",
    "#6.2. Usa el método `get` para obtener el valor de la clave `\"población\"` con un valor predeterminado `\"Desconocido\"`.\n",
    "print (\"La poblacion de paris es de: \", ciudad.get(\"poblacion\", \"desconocido\"))"
   ]
  },
  {
   "cell_type": "markdown",
   "metadata": {},
   "source": [
    "#### 7. Actualización con `update`. Dado el diccionario:\n",
    "\n",
    "```python\n",
    "persona = {\n",
    "    \"nombre\": \"Miguel\",\n",
    "    \"correo\": \"miguel@example.com\"\n",
    "}\n",
    "```\n",
    "\n",
    "7.1. Usa el método `update` para añadir las claves `\"edad\"` con valor `30` y `\"teléfono\"` con valor `\"555-1234\"`.\n",
    "\n",
    "7.2. Cambia el valor de la clave `\"correo\"` usando `update`.\n"
   ]
  },
  {
   "cell_type": "code",
   "execution_count": 52,
   "metadata": {},
   "outputs": [],
   "source": [
    "persona = {\n",
    "    \"nombre\": \"Miguel\",\n",
    "    \"correo\": \"miguel@example.com\"\n",
    "}"
   ]
  },
  {
   "cell_type": "code",
   "execution_count": 59,
   "metadata": {},
   "outputs": [
    {
     "name": "stdout",
     "output_type": "stream",
     "text": [
      "{'nombre': 'Miguel', 'correo': 'miguelito@gmail.com', 'edad': 30, 'telefono': '555-1234'}\n"
     ]
    }
   ],
   "source": [
    "#7.1. Usa el método `update` para añadir las claves `\"edad\"` con valor `30` y `\"teléfono\"` con valor `\"555-1234\"`.\n",
    "\n",
    "# Creamos el nuevo diccionario\n",
    "nuevos_elementos = {\n",
    "    \"edad\": 30,\n",
    "    \"telefono\": \"555-1234\"}\n",
    "#concatenamos los diccionarios\n",
    "persona.update(nuevos_elementos)\n",
    "\n",
    "\n",
    "#7.2. Cambia el valor de la clave `\"correo\"` usando `update`.\n",
    "persona.update({\"correo\": \"miguelito@gmail.com\"})\n",
    "# Imprimimos para chequear\n",
    "print(persona)\n"
   ]
  }
 ],
 "metadata": {
  "kernelspec": {
   "display_name": "hackio",
   "language": "python",
   "name": "python3"
  },
  "language_info": {
   "codemirror_mode": {
    "name": "ipython",
    "version": 3
   },
   "file_extension": ".py",
   "mimetype": "text/x-python",
   "name": "python",
   "nbconvert_exporter": "python",
   "pygments_lexer": "ipython3",
   "version": "3.12.4"
  }
 },
 "nbformat": 4,
 "nbformat_minor": 2
}

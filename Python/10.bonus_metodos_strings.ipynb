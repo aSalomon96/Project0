{
 "cells": [
  {
   "cell_type": "markdown",
   "metadata": {},
   "source": [
    "<div style=\"text-align: center;\">\n",
    "  <img src=\"https://github.com/Hack-io-Data/Imagenes/blob/main/01-LogosHackio/logo_celeste@4x.png?raw=true\" alt=\"esquema\" />\n",
    "</div>"
   ]
  },
  {
   "cell_type": "markdown",
   "metadata": {},
   "source": [
    "\n",
    "#### Genera un dicionario con los nombres, apellidos y empresas de la siguinete lista de correos. \n",
    "\n",
    "Te deberá quedar un diccionario parecido al que se muestra a continuación: \n",
    "\n",
    "![resultado](https://github.com/Hack-io-Data/Imagenes/blob/main/04-Prework/Python/diccionario-bonus-strings.png?raw=true)"
   ]
  },
  {
   "cell_type": "code",
   "execution_count": 3,
   "metadata": {},
   "outputs": [
    {
     "name": "stdout",
     "output_type": "stream",
     "text": [
      "{'john.doe': {'nombre': 'John', 'apellido': 'Doe', 'empresa': 'tecnologiainnovadora'}, 'jane.doe': {'nombre': 'Jane', 'apellido': 'Doe', 'empresa': 'empresadigital'}, 'jim.smith': {'nombre': 'Jim', 'apellido': 'Smith', 'empresa': 'solucionesdigitales'}, 'mary.jane': {'nombre': 'Mary', 'apellido': 'Jane', 'empresa': 'tecnologiapionera'}, 'bob.jones': {'nombre': 'Bob', 'apellido': 'Jones', 'empresa': 'innovaciontecnologica'}, 'alice.smith': {'nombre': 'Alice', 'apellido': 'Smith', 'empresa': 'desarrollotecnologico'}, 'tom.jones': {'nombre': 'Tom', 'apellido': 'Jones', 'empresa': 'tecnologiadinamica'}, 'sally.jones': {'nombre': 'Sally', 'apellido': 'Jones', 'empresa': 'tecnologiamoderna'}, 'jerry.smith': {'nombre': 'Jerry', 'apellido': 'Smith', 'empresa': 'solucionestech'}, 'beth.jones': {'nombre': 'Beth', 'apellido': 'Jones', 'empresa': 'tecnologiavanguardista'}, 'john.smith': {'nombre': 'John', 'apellido': 'Smith', 'empresa': 'tecnologiasavanzadas'}, 'jim.jones': {'nombre': 'Jim', 'apellido': 'Jones', 'empresa': 'tecnologiadinamica'}, 'mary.smith': {'nombre': 'Mary', 'apellido': 'Smith', 'empresa': 'innovaciondigital'}, 'bob.doe': {'nombre': 'Bob', 'apellido': 'Doe', 'empresa': 'solucionesinformaticas'}}\n"
     ]
    }
   ],
   "source": [
    "emails = \"\"\"john.doe@tecnologiainnovadora.com\n",
    "jane.doe@empresatecnologica.com\n",
    "jim.smith@solucionesdigitales.com\n",
    "mary.jane@tecnologiapionera.com\n",
    "bob.jones@innovaciontecnologica.com\n",
    "alice.smith@desarrollotecnologico.com\n",
    "tom.jones@tecnologiadinamica.com\n",
    "sally.jones@tecnologiamoderna.com\n",
    "jerry.smith@solucionestech.com\n",
    "beth.jones@tecnologiavanguardista.com\n",
    "john.smith@tecnologiasavanzadas.com\n",
    "jane.doe@empresadigital.com\n",
    "jim.jones@tecnologiadinamica.com\n",
    "mary.smith@innovaciondigital.com\n",
    "bob.doe@solucionesinformaticas.com\n",
    "\"\"\"\n",
    "def crear_diccionario_correos(emails):\n",
    "    diccionario_correos = {}\n",
    "\n",
    "    # Separar cada correo electrónico por saltos de línea\n",
    "    lista_correos = emails.splitlines()\n",
    "\n",
    "    for correo in lista_correos:\n",
    "        # Separar la parte antes del @ y la parte del dominio\n",
    "        nombre_apellido, dominio = correo.split('@')\n",
    "        \n",
    "        # Extraer el nombre de la empresa, que es la primera parte del dominio (sin .com)\n",
    "        empresa = dominio.split('.')[0]\n",
    "        \n",
    "        # Separar el nombre y el apellido por el punto\n",
    "        nombre, apellido = nombre_apellido.split('.')\n",
    "\n",
    "        # Crear el diccionario para este correo\n",
    "        diccionario_correos[nombre_apellido] = {\n",
    "            \"nombre\": nombre.capitalize(),\n",
    "            \"apellido\": apellido.capitalize(),\n",
    "            \"empresa\": empresa\n",
    "        }\n",
    "\n",
    "    return diccionario_correos\n",
    "# Llamada a la función\n",
    "resultado = crear_diccionario_correos(emails)\n",
    "\n",
    "# Mostrar el resultado\n",
    "print(resultado)"
   ]
  }
 ],
 "metadata": {
  "kernelspec": {
   "display_name": "hackio",
   "language": "python",
   "name": "python3"
  },
  "language_info": {
   "codemirror_mode": {
    "name": "ipython",
    "version": 3
   },
   "file_extension": ".py",
   "mimetype": "text/x-python",
   "name": "python",
   "nbconvert_exporter": "python",
   "pygments_lexer": "ipython3",
   "version": "3.12.4"
  }
 },
 "nbformat": 4,
 "nbformat_minor": 2
}

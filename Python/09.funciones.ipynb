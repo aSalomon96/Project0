{
 "cells": [
  {
   "cell_type": "markdown",
   "metadata": {},
   "source": [
    "\n",
    "<div style=\"text-align: center;\">\n",
    "  <img src=\"https://github.com/Hack-io-Data/Imagenes/blob/main/01-LogosHackio/logo_celeste@4x.png?raw=true\" alt=\"esquema\" />\n",
    "</div>"
   ]
  },
  {
   "cell_type": "markdown",
   "metadata": {},
   "source": [
    "#### 1. Escribe una función sin parámetros que imprima el siguiente mensaje \"¡Hola! Bienvenido.\"\n"
   ]
  },
  {
   "cell_type": "code",
   "execution_count": 39,
   "metadata": {},
   "outputs": [
    {
     "name": "stdout",
     "output_type": "stream",
     "text": [
      "Hola bienvenido\n"
     ]
    }
   ],
   "source": [
    "def saludo():\n",
    "    return print (\"Hola bienvenido\")\n",
    "\n",
    "saludo()"
   ]
  },
  {
   "cell_type": "markdown",
   "metadata": {},
   "source": [
    "#### 2. Escribe una función que reciba dos parámetros y devuelva la suma de ambos.\n"
   ]
  },
  {
   "cell_type": "code",
   "execution_count": 40,
   "metadata": {},
   "outputs": [
    {
     "data": {
      "text/plain": [
       "3"
      ]
     },
     "execution_count": 40,
     "metadata": {},
     "output_type": "execute_result"
    }
   ],
   "source": [
    "def suma (numero1,numero2):\n",
    "    sum = numero1 + numero2\n",
    "    return sum\n",
    "\n",
    "suma (1,2)"
   ]
  },
  {
   "cell_type": "markdown",
   "metadata": {},
   "source": [
    "#### 3. Escribe una función que reciba un número y devuelva True si es par, False si no lo es."
   ]
  },
  {
   "cell_type": "code",
   "execution_count": 41,
   "metadata": {},
   "outputs": [
    {
     "data": {
      "text/plain": [
       "False"
      ]
     },
     "execution_count": 41,
     "metadata": {},
     "output_type": "execute_result"
    }
   ],
   "source": [
    "def numero_par(num):\n",
    "    if num %2 ==0:\n",
    "        return True\n",
    "    else:\n",
    "        return False\n",
    "    \n",
    "numero_par(33)"
   ]
  },
  {
   "cell_type": "markdown",
   "metadata": {},
   "source": [
    "#### 4. Escribe un función que devuelva un saludo personalizado a una persona dado su nombre. \n"
   ]
  },
  {
   "cell_type": "code",
   "execution_count": 42,
   "metadata": {},
   "outputs": [
    {
     "name": "stdout",
     "output_type": "stream",
     "text": [
      "¡Hola, Agustin! Bienvenido.\n"
     ]
    }
   ],
   "source": [
    "def saludar_personalizado(nombre):\n",
    "    return f\"¡Hola, {nombre}! Bienvenido.\"\n",
    "\n",
    "print(saludar_personalizado(\"Agustin\")) "
   ]
  },
  {
   "cell_type": "markdown",
   "metadata": {},
   "source": [
    "#### 5. Escribe una función que sume todos los números que reciba como argumento. La función debe recibir una cantidad variable de argumentos y devolver la suma de todos ellos."
   ]
  },
  {
   "cell_type": "code",
   "execution_count": 43,
   "metadata": {},
   "outputs": [
    {
     "name": "stdout",
     "output_type": "stream",
     "text": [
      "6\n",
      "100\n",
      "5\n"
     ]
    }
   ],
   "source": [
    "def sumar_todos(*numeros):\n",
    "    return sum(numeros)\n",
    "\n",
    "# Ejemplos de uso\n",
    "print(sumar_todos(1, 2, 3))         \n",
    "print(sumar_todos(10, 20, 30, 40))  \n",
    "print(sumar_todos(5))    "
   ]
  },
  {
   "cell_type": "markdown",
   "metadata": {},
   "source": [
    "#### 6. Escribe una función que cuente las letras de una palabra y devuelva un diccionario con la cantidad de veces que se repite cada letra \n"
   ]
  },
  {
   "cell_type": "code",
   "execution_count": 44,
   "metadata": {},
   "outputs": [
    {
     "data": {
      "text/plain": [
       "{'e': 3, 'l': 1, 'f': 1, 'a': 1, 'n': 1, 't': 1}"
      ]
     },
     "execution_count": 44,
     "metadata": {},
     "output_type": "execute_result"
    }
   ],
   "source": [
    "def contar_letras(palabra):\n",
    "    contador = {}\n",
    "    for letra in palabra:\n",
    "        if letra in contador:\n",
    "            contador[letra] += 1\n",
    "        else:\n",
    "            contador[letra] = 1\n",
    "    return contador\n",
    "\n",
    "contar_letras (\"elefante\")"
   ]
  },
  {
   "cell_type": "markdown",
   "metadata": {},
   "source": [
    "#### 7. Escribe un función recursiva para calcular el factorial de un número entero no negativo."
   ]
  },
  {
   "cell_type": "code",
   "execution_count": 45,
   "metadata": {},
   "outputs": [
    {
     "data": {
      "text/plain": [
       "120"
      ]
     },
     "execution_count": 45,
     "metadata": {},
     "output_type": "execute_result"
    }
   ],
   "source": [
    "def factorial(n):\n",
    "    if n == 0 or n == 1:\n",
    "        return 1\n",
    "    else:\n",
    "        return n * factorial(n - 1)\n",
    "    \n",
    "factorial(5)"
   ]
  },
  {
   "cell_type": "markdown",
   "metadata": {},
   "source": [
    "#### 8. Escribe una función que tome dos parámetros: `figura` (una cadena que puede ser `\"rectangulo\"`, `\"circulo\"` o `\"triangulo\"`) y `datos` (una tupla con los datos necesarios para calcular el área de la figura). "
   ]
  },
  {
   "cell_type": "code",
   "execution_count": 46,
   "metadata": {},
   "outputs": [
    {
     "name": "stdout",
     "output_type": "stream",
     "text": [
      "50\n",
      "153.86\n",
      "24.0\n",
      "Figura no soportada\n"
     ]
    }
   ],
   "source": [
    "import math\n",
    "\n",
    "def calcular_area(figura, datos):\n",
    "    if figura == \"rectangulo\":\n",
    "        base, altura = datos\n",
    "        return base * altura\n",
    "    elif figura == \"circulo\":\n",
    "        radio, = datos\n",
    "        return 3.14 * radio ** 2\n",
    "    elif figura == \"triangulo\":\n",
    "        base, altura = datos\n",
    "        return (base * altura) / 2\n",
    "    else:\n",
    "        return \"Figura no soportada\"\n",
    "\n",
    "# Ejemplos de uso\n",
    "print(calcular_area(\"rectangulo\", (5, 10)))  \n",
    "print(calcular_area(\"circulo\", (7,)))        \n",
    "print(calcular_area(\"triangulo\", (6, 8)))    \n",
    "print(calcular_area(\"cuadrado\", (4,)))       "
   ]
  },
  {
   "cell_type": "markdown",
   "metadata": {},
   "source": [
    "#### 9. Escribe una función que tome una lista de números como parámetro y devuelva el número más grande de la lista. No utilices la función `max()` de Python en tu solución."
   ]
  },
  {
   "cell_type": "code",
   "execution_count": 47,
   "metadata": {},
   "outputs": [
    {
     "name": "stdout",
     "output_type": "stream",
     "text": [
      "8\n",
      "-1\n",
      "10\n",
      "None\n"
     ]
    }
   ],
   "source": [
    "def numero_mas_grande(lista):\n",
    "    if not lista:\n",
    "        return None  # Retorna None si la lista está vacía\n",
    "\n",
    "    mayor = lista[0]\n",
    "    for numero in lista[1:]:\n",
    "        if numero > mayor:\n",
    "            mayor = numero\n",
    "    return mayor\n",
    "\n",
    "# Ejemplos de uso\n",
    "print(numero_mas_grande([3, 5, 7, 2, 8]))  \n",
    "print(numero_mas_grande([-1, -5, -3, -4]))  \n",
    "print(numero_mas_grande([10]))  \n",
    "print(numero_mas_grande([])) "
   ]
  },
  {
   "cell_type": "markdown",
   "metadata": {},
   "source": [
    "#### 10. Escribe una función que tome una cadena como parámetro un texto y devuelva `True` si la cadena es un palíndromo (se lee igual de izquierda a derecha que de derecha a izquierda), y `False` en caso contrario. Ignora los espacios y considera mayúsculas y minúsculas de manera insensible.\n"
   ]
  },
  {
   "cell_type": "code",
   "execution_count": 48,
   "metadata": {},
   "outputs": [
    {
     "name": "stdout",
     "output_type": "stream",
     "text": [
      "True\n",
      "True\n",
      "False\n",
      "True\n"
     ]
    }
   ],
   "source": [
    "def es_palindromo(texto):\n",
    "    # Eliminar espacios y convertir a minúsculas\n",
    "    texto_limpio = texto.replace(\" \", \"\").lower()\n",
    "    # Verificar si la cadena es igual a su reverso\n",
    "    return texto_limpio == texto_limpio[::-1]\n",
    "\n",
    "# Ejemplos de uso\n",
    "print(es_palindromo(\"Anita lava la tina\"))  \n",
    "print(es_palindromo(\"A man a plan a canal Panama\"))  \n",
    "print(es_palindromo(\"Hola Mundo\")) \n",
    "print(es_palindromo(\"No lemon no melon\")) "
   ]
  },
  {
   "cell_type": "markdown",
   "metadata": {},
   "source": [
    "#### 11. Escribe una función que tome una cadena como parámetro y devuelva dos valores: la cantidad de vocales y la cantidad de consonantes presentes en la cadena. Ignora los espacios y considera mayúsculas y minúsculas de manera insensible.\n"
   ]
  },
  {
   "cell_type": "code",
   "execution_count": 49,
   "metadata": {},
   "outputs": [
    {
     "name": "stdout",
     "output_type": "stream",
     "text": [
      "Vocales: 4, Consonantes: 5\n",
      "Vocales: 10, Consonantes: 13\n"
     ]
    }
   ],
   "source": [
    "def contar_vocales_consonantes(cadena):\n",
    "    # Definir las vocales\n",
    "    vocales = \"aeiouáéíóúü\"\n",
    "    # Convertir la cadena a minúsculas y eliminar espacios\n",
    "    cadena = cadena.lower().replace(\" \", \"\")\n",
    "    # Inicializar contadores\n",
    "    contador_vocales = 0\n",
    "    contador_consonantes = 0\n",
    "    \n",
    "    # Recorrer la cadena y contar vocales y consonantes\n",
    "    for letra in cadena:\n",
    "        if letra in vocales:\n",
    "            contador_vocales += 1\n",
    "        elif letra.isalpha():  # Si es una letra y no es una vocal, es una consonante\n",
    "            contador_consonantes += 1\n",
    "    \n",
    "    return contador_vocales, contador_consonantes\n",
    "\n",
    "# Ejemplos de uso\n",
    "vocales, consonantes = contar_vocales_consonantes(\"Hola Mundo\")\n",
    "print(f\"Vocales: {vocales}, Consonantes: {consonantes}\")  # Vocales: 4, Consonantes: 5\n",
    "\n",
    "vocales, consonantes = contar_vocales_consonantes(\"Programación es divertido\")\n",
    "print(f\"Vocales: {vocales}, Consonantes: {consonantes}\") "
   ]
  }
 ],
 "metadata": {
  "kernelspec": {
   "display_name": "hackio",
   "language": "python",
   "name": "python3"
  },
  "language_info": {
   "codemirror_mode": {
    "name": "ipython",
    "version": 3
   },
   "file_extension": ".py",
   "mimetype": "text/x-python",
   "name": "python",
   "nbconvert_exporter": "python",
   "pygments_lexer": "ipython3",
   "version": "3.12.4"
  }
 },
 "nbformat": 4,
 "nbformat_minor": 2
}
